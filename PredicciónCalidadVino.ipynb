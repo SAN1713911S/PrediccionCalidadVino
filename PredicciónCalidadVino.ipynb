{
  "cells": [
    {
      "cell_type": "markdown",
      "metadata": {
        "id": "YxeRGgV56VI9"
      },
      "source": [
        "<div>\n",
        "<img src=\"https://res-5.cloudinary.com/crunchbase-production/image/upload/c_lpad,h_256,w_256,f_auto,q_auto:eco/v1455514364/pim02bzqvgz0hibsra41.png\" align=\"right\"><br><br><FONT FACE=\"times new roman\" SIZE=5>\n",
        "<b></b>\n",
        "<br>\n",
        "<i><b>Docente:</b></i> Camilo Rodriguez.\n",
        "<br>\n",
        "<i><b>Asignatura:</b></i> Modelos predictivos\n",
        "<br>\n",
        "<i><b>Estudiante:</b></i> Esteban Rodriguez y Santiago Niño\n",
        "<br>\n",
        "<i><b>Tema:</b></i> Parcial #3 - Parte 1\n",
        "<br>\n",
        "<br>\n",
        "17/11/2022\n",
        "<br>\n",
        "</FONT>\n",
        "</div>"
      ]
    },
    {
      "cell_type": "markdown",
      "metadata": {
        "id": "EyqRdcKrYryj"
      },
      "source": [
        "#Enunciado"
      ]
    },
    {
      "cell_type": "markdown",
      "metadata": {
        "id": "ZjiZfZELYqJs"
      },
      "source": [
        "Explicar en qué consiste cada dataset escojido y qué se quiere predecir:"
      ]
    },
    {
      "cell_type": "code",
      "execution_count": null,
      "metadata": {
        "id": "WrHoaWnSotAh"
      },
      "outputs": [],
      "source": [
        "import numpy as np\n",
        "import pandas as pd\n",
        "from sklearn.model_selection import train_test_split\n",
        "from sklearn.ensemble import RandomForestClassifier\n",
        "from sklearn.tree import DecisionTreeClassifier, plot_tree\n",
        "from sklearn.preprocessing import MaxAbsScaler, MinMaxScaler, StandardScaler, RobustScaler, OneHotEncoder, OrdinalEncoder, PowerTransformer\n",
        "from sklearn.pipeline import Pipeline\n",
        "from sklearn.compose import ColumnTransformer\n",
        "from sklearn.neighbors import KNeighborsClassifier, KNeighborsRegressor\n",
        "from sklearn.model_selection import cross_validate\n",
        "from sklearn.linear_model import LinearRegression, LogisticRegression\n",
        "from sklearn.tree import DecisionTreeRegressor\n",
        "from sklearn.metrics import pairwise_distances, accuracy_score, mean_squared_error,precision_score, recall_score, f1_score, confusion_matrix\n",
        "from sklearn.impute import SimpleImputer\n",
        "from sklearn.model_selection import GridSearchCV\n",
        "import matplotlib.pyplot as plt\n",
        "from sklearn.pipeline import Pipeline\n",
        "import seaborn as sns\n",
        "import joblib\n",
        "from joblib import load"
      ]
    },
    {
      "cell_type": "code",
      "execution_count": null,
      "metadata": {
        "id": "anoaa0Mjfwtj"
      },
      "outputs": [],
      "source": [
        "df = pd.read_csv(\"https://raw.githubusercontent.com/estebanrodriguez02/DataSets/main/winequality-white.csv\", delimiter=\";\")"
      ]
    },
    {
      "cell_type": "markdown",
      "metadata": {
        "id": "jjkR1v4LlmwS"
      },
      "source": [
        "Para este modelo se pretende predecir la calidad del vino blanco con respecto a sus diferentes caracteristicas quimicas. Inicialmente, este valor varia en diferentes clases como por ejemplo: 3,4,5,6,7,8,9 siendo el número mayor la calidad más alta. Por esta razón, el modelo de Machine Learning a usar debe ser de clasificación."
      ]
    },
    {
      "cell_type": "markdown",
      "metadata": {
        "id": "cbbpFImOsucU"
      },
      "source": [
        "Usando el dataset elegido para regresión o clasificación:\n",
        "\n",
        "\n",
        "\n",
        "\n",
        "\n"
      ]
    },
    {
      "cell_type": "code",
      "execution_count": null,
      "metadata": {
        "colab": {
          "base_uri": "https://localhost:8080/",
          "height": 267
        },
        "id": "8txmtxvrlVq7",
        "outputId": "3ed6193f-bc05-4bba-ff5d-da5f4a12c7ee"
      },
      "outputs": [
        {
          "output_type": "execute_result",
          "data": {
            "text/plain": [
              "   fixed acidity  volatile acidity  citric acid  residual sugar  chlorides  \\\n",
              "0            7.0              0.27         0.36            20.7      0.045   \n",
              "1            6.3              0.30         0.34             1.6      0.049   \n",
              "2            8.1              0.28         0.40             6.9      0.050   \n",
              "3            7.2              0.23         0.32             8.5      0.058   \n",
              "4            7.2              0.23         0.32             8.5      0.058   \n",
              "\n",
              "   free sulfur dioxide  total sulfur dioxide  density    pH  sulphates  \\\n",
              "0                 45.0                 170.0   1.0010  3.00       0.45   \n",
              "1                 14.0                 132.0   0.9940  3.30       0.49   \n",
              "2                 30.0                  97.0   0.9951  3.26       0.44   \n",
              "3                 47.0                 186.0   0.9956  3.19       0.40   \n",
              "4                 47.0                 186.0   0.9956  3.19       0.40   \n",
              "\n",
              "   alcohol  quality  \n",
              "0      8.8        6  \n",
              "1      9.5        6  \n",
              "2     10.1        6  \n",
              "3      9.9        6  \n",
              "4      9.9        6  "
            ],
            "text/html": [
              "\n",
              "  <div id=\"df-eb268914-e150-4546-afa2-dc44ec1c1fad\">\n",
              "    <div class=\"colab-df-container\">\n",
              "      <div>\n",
              "<style scoped>\n",
              "    .dataframe tbody tr th:only-of-type {\n",
              "        vertical-align: middle;\n",
              "    }\n",
              "\n",
              "    .dataframe tbody tr th {\n",
              "        vertical-align: top;\n",
              "    }\n",
              "\n",
              "    .dataframe thead th {\n",
              "        text-align: right;\n",
              "    }\n",
              "</style>\n",
              "<table border=\"1\" class=\"dataframe\">\n",
              "  <thead>\n",
              "    <tr style=\"text-align: right;\">\n",
              "      <th></th>\n",
              "      <th>fixed acidity</th>\n",
              "      <th>volatile acidity</th>\n",
              "      <th>citric acid</th>\n",
              "      <th>residual sugar</th>\n",
              "      <th>chlorides</th>\n",
              "      <th>free sulfur dioxide</th>\n",
              "      <th>total sulfur dioxide</th>\n",
              "      <th>density</th>\n",
              "      <th>pH</th>\n",
              "      <th>sulphates</th>\n",
              "      <th>alcohol</th>\n",
              "      <th>quality</th>\n",
              "    </tr>\n",
              "  </thead>\n",
              "  <tbody>\n",
              "    <tr>\n",
              "      <th>0</th>\n",
              "      <td>7.0</td>\n",
              "      <td>0.27</td>\n",
              "      <td>0.36</td>\n",
              "      <td>20.7</td>\n",
              "      <td>0.045</td>\n",
              "      <td>45.0</td>\n",
              "      <td>170.0</td>\n",
              "      <td>1.0010</td>\n",
              "      <td>3.00</td>\n",
              "      <td>0.45</td>\n",
              "      <td>8.8</td>\n",
              "      <td>6</td>\n",
              "    </tr>\n",
              "    <tr>\n",
              "      <th>1</th>\n",
              "      <td>6.3</td>\n",
              "      <td>0.30</td>\n",
              "      <td>0.34</td>\n",
              "      <td>1.6</td>\n",
              "      <td>0.049</td>\n",
              "      <td>14.0</td>\n",
              "      <td>132.0</td>\n",
              "      <td>0.9940</td>\n",
              "      <td>3.30</td>\n",
              "      <td>0.49</td>\n",
              "      <td>9.5</td>\n",
              "      <td>6</td>\n",
              "    </tr>\n",
              "    <tr>\n",
              "      <th>2</th>\n",
              "      <td>8.1</td>\n",
              "      <td>0.28</td>\n",
              "      <td>0.40</td>\n",
              "      <td>6.9</td>\n",
              "      <td>0.050</td>\n",
              "      <td>30.0</td>\n",
              "      <td>97.0</td>\n",
              "      <td>0.9951</td>\n",
              "      <td>3.26</td>\n",
              "      <td>0.44</td>\n",
              "      <td>10.1</td>\n",
              "      <td>6</td>\n",
              "    </tr>\n",
              "    <tr>\n",
              "      <th>3</th>\n",
              "      <td>7.2</td>\n",
              "      <td>0.23</td>\n",
              "      <td>0.32</td>\n",
              "      <td>8.5</td>\n",
              "      <td>0.058</td>\n",
              "      <td>47.0</td>\n",
              "      <td>186.0</td>\n",
              "      <td>0.9956</td>\n",
              "      <td>3.19</td>\n",
              "      <td>0.40</td>\n",
              "      <td>9.9</td>\n",
              "      <td>6</td>\n",
              "    </tr>\n",
              "    <tr>\n",
              "      <th>4</th>\n",
              "      <td>7.2</td>\n",
              "      <td>0.23</td>\n",
              "      <td>0.32</td>\n",
              "      <td>8.5</td>\n",
              "      <td>0.058</td>\n",
              "      <td>47.0</td>\n",
              "      <td>186.0</td>\n",
              "      <td>0.9956</td>\n",
              "      <td>3.19</td>\n",
              "      <td>0.40</td>\n",
              "      <td>9.9</td>\n",
              "      <td>6</td>\n",
              "    </tr>\n",
              "  </tbody>\n",
              "</table>\n",
              "</div>\n",
              "      <button class=\"colab-df-convert\" onclick=\"convertToInteractive('df-eb268914-e150-4546-afa2-dc44ec1c1fad')\"\n",
              "              title=\"Convert this dataframe to an interactive table.\"\n",
              "              style=\"display:none;\">\n",
              "        \n",
              "  <svg xmlns=\"http://www.w3.org/2000/svg\" height=\"24px\"viewBox=\"0 0 24 24\"\n",
              "       width=\"24px\">\n",
              "    <path d=\"M0 0h24v24H0V0z\" fill=\"none\"/>\n",
              "    <path d=\"M18.56 5.44l.94 2.06.94-2.06 2.06-.94-2.06-.94-.94-2.06-.94 2.06-2.06.94zm-11 1L8.5 8.5l.94-2.06 2.06-.94-2.06-.94L8.5 2.5l-.94 2.06-2.06.94zm10 10l.94 2.06.94-2.06 2.06-.94-2.06-.94-.94-2.06-.94 2.06-2.06.94z\"/><path d=\"M17.41 7.96l-1.37-1.37c-.4-.4-.92-.59-1.43-.59-.52 0-1.04.2-1.43.59L10.3 9.45l-7.72 7.72c-.78.78-.78 2.05 0 2.83L4 21.41c.39.39.9.59 1.41.59.51 0 1.02-.2 1.41-.59l7.78-7.78 2.81-2.81c.8-.78.8-2.07 0-2.86zM5.41 20L4 18.59l7.72-7.72 1.47 1.35L5.41 20z\"/>\n",
              "  </svg>\n",
              "      </button>\n",
              "      \n",
              "  <style>\n",
              "    .colab-df-container {\n",
              "      display:flex;\n",
              "      flex-wrap:wrap;\n",
              "      gap: 12px;\n",
              "    }\n",
              "\n",
              "    .colab-df-convert {\n",
              "      background-color: #E8F0FE;\n",
              "      border: none;\n",
              "      border-radius: 50%;\n",
              "      cursor: pointer;\n",
              "      display: none;\n",
              "      fill: #1967D2;\n",
              "      height: 32px;\n",
              "      padding: 0 0 0 0;\n",
              "      width: 32px;\n",
              "    }\n",
              "\n",
              "    .colab-df-convert:hover {\n",
              "      background-color: #E2EBFA;\n",
              "      box-shadow: 0px 1px 2px rgba(60, 64, 67, 0.3), 0px 1px 3px 1px rgba(60, 64, 67, 0.15);\n",
              "      fill: #174EA6;\n",
              "    }\n",
              "\n",
              "    [theme=dark] .colab-df-convert {\n",
              "      background-color: #3B4455;\n",
              "      fill: #D2E3FC;\n",
              "    }\n",
              "\n",
              "    [theme=dark] .colab-df-convert:hover {\n",
              "      background-color: #434B5C;\n",
              "      box-shadow: 0px 1px 3px 1px rgba(0, 0, 0, 0.15);\n",
              "      filter: drop-shadow(0px 1px 2px rgba(0, 0, 0, 0.3));\n",
              "      fill: #FFFFFF;\n",
              "    }\n",
              "  </style>\n",
              "\n",
              "      <script>\n",
              "        const buttonEl =\n",
              "          document.querySelector('#df-eb268914-e150-4546-afa2-dc44ec1c1fad button.colab-df-convert');\n",
              "        buttonEl.style.display =\n",
              "          google.colab.kernel.accessAllowed ? 'block' : 'none';\n",
              "\n",
              "        async function convertToInteractive(key) {\n",
              "          const element = document.querySelector('#df-eb268914-e150-4546-afa2-dc44ec1c1fad');\n",
              "          const dataTable =\n",
              "            await google.colab.kernel.invokeFunction('convertToInteractive',\n",
              "                                                     [key], {});\n",
              "          if (!dataTable) return;\n",
              "\n",
              "          const docLinkHtml = 'Like what you see? Visit the ' +\n",
              "            '<a target=\"_blank\" href=https://colab.research.google.com/notebooks/data_table.ipynb>data table notebook</a>'\n",
              "            + ' to learn more about interactive tables.';\n",
              "          element.innerHTML = '';\n",
              "          dataTable['output_type'] = 'display_data';\n",
              "          await google.colab.output.renderOutput(dataTable, element);\n",
              "          const docLink = document.createElement('div');\n",
              "          docLink.innerHTML = docLinkHtml;\n",
              "          element.appendChild(docLink);\n",
              "        }\n",
              "      </script>\n",
              "    </div>\n",
              "  </div>\n",
              "  "
            ]
          },
          "metadata": {},
          "execution_count": 6
        }
      ],
      "source": [
        "df.head()"
      ]
    },
    {
      "cell_type": "code",
      "execution_count": null,
      "metadata": {
        "colab": {
          "base_uri": "https://localhost:8080/"
        },
        "id": "2JDH2FN-uPxl",
        "outputId": "1df26798-8daa-4e2d-abf8-7461486595be"
      },
      "outputs": [
        {
          "output_type": "stream",
          "name": "stdout",
          "text": [
            "<class 'pandas.core.frame.DataFrame'>\n",
            "RangeIndex: 4898 entries, 0 to 4897\n",
            "Data columns (total 12 columns):\n",
            " #   Column                Non-Null Count  Dtype  \n",
            "---  ------                --------------  -----  \n",
            " 0   fixed acidity         4898 non-null   float64\n",
            " 1   volatile acidity      4898 non-null   float64\n",
            " 2   citric acid           4898 non-null   float64\n",
            " 3   residual sugar        4898 non-null   float64\n",
            " 4   chlorides             4898 non-null   float64\n",
            " 5   free sulfur dioxide   4898 non-null   float64\n",
            " 6   total sulfur dioxide  4898 non-null   float64\n",
            " 7   density               4898 non-null   float64\n",
            " 8   pH                    4898 non-null   float64\n",
            " 9   sulphates             4898 non-null   float64\n",
            " 10  alcohol               4898 non-null   float64\n",
            " 11  quality               4898 non-null   int64  \n",
            "dtypes: float64(11), int64(1)\n",
            "memory usage: 459.3 KB\n"
          ]
        }
      ],
      "source": [
        "df.info()"
      ]
    },
    {
      "cell_type": "markdown",
      "metadata": {
        "id": "d41ISE7CtA8W"
      },
      "source": [
        "# Realizar un análisis exploratorio. Solo se deben presentar las gráficas de las que se diga algo en el análisis."
      ]
    },
    {
      "cell_type": "code",
      "execution_count": null,
      "metadata": {
        "colab": {
          "base_uri": "https://localhost:8080/",
          "height": 1000
        },
        "id": "hWKBOYW8uhPK",
        "outputId": "3cf5af1c-c9a5-4f57-faac-5128b4d831ea"
      },
      "outputs": [
        {
          "output_type": "execute_result",
          "data": {
            "text/plain": [
              "array([[<Axes: title={'center': 'fixed acidity'}>,\n",
              "        <Axes: title={'center': 'volatile acidity'}>,\n",
              "        <Axes: title={'center': 'citric acid'}>],\n",
              "       [<Axes: title={'center': 'residual sugar'}>,\n",
              "        <Axes: title={'center': 'chlorides'}>,\n",
              "        <Axes: title={'center': 'free sulfur dioxide'}>],\n",
              "       [<Axes: title={'center': 'total sulfur dioxide'}>,\n",
              "        <Axes: title={'center': 'density'}>,\n",
              "        <Axes: title={'center': 'pH'}>],\n",
              "       [<Axes: title={'center': 'sulphates'}>,\n",
              "        <Axes: title={'center': 'alcohol'}>,\n",
              "        <Axes: title={'center': 'quality'}>]], dtype=object)"
            ]
          },
          "metadata": {},
          "execution_count": 8
        },
        {
          "output_type": "display_data",
          "data": {
            "text/plain": [
              "<Figure size 1500x1500 with 12 Axes>"
            ],
            "image/png": "[encoded data removed]"
          },
          "metadata": {}
        }
      ],
      "source": [
        "df.hist(figsize=(15,15))"
      ]
    },
    {
      "cell_type": "markdown",
      "metadata": {
        "id": "ThGdhaOeRs7U"
      },
      "source": [
        "Con ayuda de los histogramas, se evidencia que la calidad del vino varia entre 4 y 8. Sin embargo, existen algunos valores atípicos ya que la mayoría se encuentran entre 5 y 6 perjudicando una posible predicción."
      ]
    },
    {
      "cell_type": "code",
      "execution_count": null,
      "metadata": {
        "colab": {
          "base_uri": "https://localhost:8080/"
        },
        "id": "Jdix2OH_eRI1",
        "outputId": "77485e94-c7bc-4fee-aa9a-befcfd3da0db"
      },
      "outputs": [
        {
          "output_type": "execute_result",
          "data": {
            "text/plain": [
              "count    4898.000000\n",
              "mean        6.854788\n",
              "std         0.843868\n",
              "min         3.800000\n",
              "25%         6.300000\n",
              "50%         6.800000\n",
              "75%         7.300000\n",
              "max        14.200000\n",
              "Name: fixed acidity, dtype: float64"
            ]
          },
          "metadata": {},
          "execution_count": 9
        }
      ],
      "source": [
        "df[\"fixed acidity\"].describe()"
      ]
    },
    {
      "cell_type": "code",
      "execution_count": null,
      "metadata": {
        "colab": {
          "base_uri": "https://localhost:8080/"
        },
        "id": "oHbPYGAOhi9B",
        "outputId": "0b8788b9-2437-487b-fb19-7a714237df05"
      },
      "outputs": [
        {
          "output_type": "execute_result",
          "data": {
            "text/plain": [
              "count    4898.000000\n",
              "mean        0.278241\n",
              "std         0.100795\n",
              "min         0.080000\n",
              "25%         0.210000\n",
              "50%         0.260000\n",
              "75%         0.320000\n",
              "max         1.100000\n",
              "Name: volatile acidity, dtype: float64"
            ]
          },
          "metadata": {},
          "execution_count": 10
        }
      ],
      "source": [
        "df[\"volatile acidity\"].describe()"
      ]
    },
    {
      "cell_type": "code",
      "execution_count": null,
      "metadata": {
        "colab": {
          "base_uri": "https://localhost:8080/"
        },
        "id": "sFaHv16NkyDL",
        "outputId": "623febe2-b853-4847-a190-2cce067341e3"
      },
      "outputs": [
        {
          "output_type": "execute_result",
          "data": {
            "text/plain": [
              "count    4898.000000\n",
              "mean        0.334192\n",
              "std         0.121020\n",
              "min         0.000000\n",
              "25%         0.270000\n",
              "50%         0.320000\n",
              "75%         0.390000\n",
              "max         1.660000\n",
              "Name: citric acid, dtype: float64"
            ]
          },
          "metadata": {},
          "execution_count": 11
        }
      ],
      "source": [
        "df[\"citric acid\"].describe()"
      ]
    },
    {
      "cell_type": "code",
      "execution_count": null,
      "metadata": {
        "colab": {
          "base_uri": "https://localhost:8080/"
        },
        "id": "mFhWn3AVwLPP",
        "outputId": "8dc399b6-66bc-4327-cd5f-7143cb64f3ae"
      },
      "outputs": [
        {
          "output_type": "execute_result",
          "data": {
            "text/plain": [
              "count    4898.000000\n",
              "mean        6.391415\n",
              "std         5.072058\n",
              "min         0.600000\n",
              "25%         1.700000\n",
              "50%         5.200000\n",
              "75%         9.900000\n",
              "max        65.800000\n",
              "Name: residual sugar, dtype: float64"
            ]
          },
          "metadata": {},
          "execution_count": 12
        }
      ],
      "source": [
        "df[\"residual sugar\"].describe()"
      ]
    },
    {
      "cell_type": "code",
      "execution_count": null,
      "metadata": {
        "colab": {
          "base_uri": "https://localhost:8080/"
        },
        "id": "c3r8pBkiwY9w",
        "outputId": "46ed33b4-3025-459c-be7f-762a46522b37"
      },
      "outputs": [
        {
          "output_type": "execute_result",
          "data": {
            "text/plain": [
              "count    4898.000000\n",
              "mean        0.045772\n",
              "std         0.021848\n",
              "min         0.009000\n",
              "25%         0.036000\n",
              "50%         0.043000\n",
              "75%         0.050000\n",
              "max         0.346000\n",
              "Name: chlorides, dtype: float64"
            ]
          },
          "metadata": {},
          "execution_count": 13
        }
      ],
      "source": [
        "df[\"chlorides\"].describe()"
      ]
    },
    {
      "cell_type": "code",
      "execution_count": null,
      "metadata": {
        "colab": {
          "base_uri": "https://localhost:8080/"
        },
        "id": "sDsN4hlZwZPv",
        "outputId": "7c1bb73e-8a40-45a3-ed3c-2c857019cb29"
      },
      "outputs": [
        {
          "output_type": "execute_result",
          "data": {
            "text/plain": [
              "count    4898.000000\n",
              "mean       35.308085\n",
              "std        17.007137\n",
              "min         2.000000\n",
              "25%        23.000000\n",
              "50%        34.000000\n",
              "75%        46.000000\n",
              "max       289.000000\n",
              "Name: free sulfur dioxide, dtype: float64"
            ]
          },
          "metadata": {},
          "execution_count": 14
        }
      ],
      "source": [
        "df[\"free sulfur dioxide\"].describe()"
      ]
    },
    {
      "cell_type": "code",
      "execution_count": null,
      "metadata": {
        "colab": {
          "base_uri": "https://localhost:8080/"
        },
        "id": "HZFGvs-2wZYQ",
        "outputId": "78359aa2-f682-47aa-fe9a-36f9bd531461"
      },
      "outputs": [
        {
          "output_type": "execute_result",
          "data": {
            "text/plain": [
              "count    4898.000000\n",
              "mean      138.360657\n",
              "std        42.498065\n",
              "min         9.000000\n",
              "25%       108.000000\n",
              "50%       134.000000\n",
              "75%       167.000000\n",
              "max       440.000000\n",
              "Name: total sulfur dioxide, dtype: float64"
            ]
          },
          "metadata": {},
          "execution_count": 15
        }
      ],
      "source": [
        "df[\"total sulfur dioxide\"].describe()"
      ]
    },
    {
      "cell_type": "code",
      "execution_count": null,
      "metadata": {
        "colab": {
          "base_uri": "https://localhost:8080/"
        },
        "id": "fQDDSFW3lIoj",
        "outputId": "e8db0cff-26c4-4434-c855-c8d4f65159e7"
      },
      "outputs": [
        {
          "output_type": "execute_result",
          "data": {
            "text/plain": [
              "count    4898.000000\n",
              "mean        0.994027\n",
              "std         0.002991\n",
              "min         0.987110\n",
              "25%         0.991723\n",
              "50%         0.993740\n",
              "75%         0.996100\n",
              "max         1.038980\n",
              "Name: density, dtype: float64"
            ]
          },
          "metadata": {},
          "execution_count": 16
        }
      ],
      "source": [
        "df[\"density\"].describe()"
      ]
    },
    {
      "cell_type": "code",
      "execution_count": null,
      "metadata": {
        "colab": {
          "base_uri": "https://localhost:8080/"
        },
        "id": "XSiqZ-4Lw2lC",
        "outputId": "5208b841-629a-4307-c460-92c6af215ae9"
      },
      "outputs": [
        {
          "output_type": "execute_result",
          "data": {
            "text/plain": [
              "count    4898.000000\n",
              "mean        3.188267\n",
              "std         0.151001\n",
              "min         2.720000\n",
              "25%         3.090000\n",
              "50%         3.180000\n",
              "75%         3.280000\n",
              "max         3.820000\n",
              "Name: pH, dtype: float64"
            ]
          },
          "metadata": {},
          "execution_count": 17
        }
      ],
      "source": [
        "df[\"pH\"].describe()"
      ]
    },
    {
      "cell_type": "code",
      "execution_count": null,
      "metadata": {
        "colab": {
          "base_uri": "https://localhost:8080/"
        },
        "id": "NxZzEjmow33Q",
        "outputId": "69014885-79fc-43df-97a8-867ea8604400"
      },
      "outputs": [
        {
          "output_type": "execute_result",
          "data": {
            "text/plain": [
              "count    4898.000000\n",
              "mean        0.489847\n",
              "std         0.114126\n",
              "min         0.220000\n",
              "25%         0.410000\n",
              "50%         0.470000\n",
              "75%         0.550000\n",
              "max         1.080000\n",
              "Name: sulphates, dtype: float64"
            ]
          },
          "metadata": {},
          "execution_count": 18
        }
      ],
      "source": [
        "df[\"sulphates\"].describe()"
      ]
    },
    {
      "cell_type": "code",
      "execution_count": null,
      "metadata": {
        "colab": {
          "base_uri": "https://localhost:8080/"
        },
        "id": "aZYj7BETw4FR",
        "outputId": "47be9b4e-1b08-46ec-bd13-b852fd452fd9"
      },
      "outputs": [
        {
          "output_type": "execute_result",
          "data": {
            "text/plain": [
              "count    4898.000000\n",
              "mean       10.514267\n",
              "std         1.230621\n",
              "min         8.000000\n",
              "25%         9.500000\n",
              "50%        10.400000\n",
              "75%        11.400000\n",
              "max        14.200000\n",
              "Name: alcohol, dtype: float64"
            ]
          },
          "metadata": {},
          "execution_count": 19
        }
      ],
      "source": [
        "df[\"alcohol\"].describe()"
      ]
    },
    {
      "cell_type": "code",
      "execution_count": null,
      "metadata": {
        "colab": {
          "base_uri": "https://localhost:8080/"
        },
        "id": "JxjZuyCIxE5Q",
        "outputId": "bdd5b64d-a025-4e7b-a81a-a0d218ba02b2"
      },
      "outputs": [
        {
          "output_type": "execute_result",
          "data": {
            "text/plain": [
              "count    4898.000000\n",
              "mean        5.877909\n",
              "std         0.885639\n",
              "min         3.000000\n",
              "25%         5.000000\n",
              "50%         6.000000\n",
              "75%         6.000000\n",
              "max         9.000000\n",
              "Name: quality, dtype: float64"
            ]
          },
          "metadata": {},
          "execution_count": 20
        }
      ],
      "source": [
        "df[\"quality\"].describe()"
      ]
    },
    {
      "cell_type": "code",
      "execution_count": null,
      "metadata": {
        "colab": {
          "base_uri": "https://localhost:8080/"
        },
        "id": "OnlArR7if1kl",
        "outputId": "e53651a5-25e9-4195-e469-27f134920692"
      },
      "outputs": [
        {
          "output_type": "execute_result",
          "data": {
            "text/plain": [
              "quality\n",
              "3      20\n",
              "4     163\n",
              "5    1457\n",
              "6    2198\n",
              "7     880\n",
              "8     175\n",
              "9       5\n",
              "dtype: int64"
            ]
          },
          "metadata": {},
          "execution_count": 21
        }
      ],
      "source": [
        "df.groupby(\"quality\").size()"
      ]
    },
    {
      "cell_type": "code",
      "execution_count": null,
      "metadata": {
        "colab": {
          "base_uri": "https://localhost:8080/",
          "height": 517
        },
        "id": "PAfV7QefzAot",
        "outputId": "b3400603-49c5-49f8-f7a4-89dd63a6a0e8"
      },
      "outputs": [
        {
          "output_type": "stream",
          "name": "stdout",
          "text": [
            "Percentiles: 25th=5.00, 75th=6.00, IQR=1.00\n",
            "Identified outliers: 200\n",
            "Non-outlier observations: 4698\n"
          ]
        },
        {
          "output_type": "display_data",
          "data": {
            "text/plain": [
              "<Figure size 1200x500 with 1 Axes>"
            ],
            "image/png": "[encoded data removed]"
          },
          "metadata": {}
        }
      ],
      "source": [
        "from numpy.random import randn\n",
        "from numpy import percentile\n",
        "import seaborn as sns\n",
        "\n",
        "q25, q75 = percentile(df[\"quality\"], 25), percentile(df[\"quality\"], 75)\n",
        "iqr = q75 - q25\n",
        "print('Percentiles: 25th={:.2f}, 75th={:.2f}, IQR={:.2f}'.format(q25, q75, iqr))\n",
        "\n",
        "cut_off = iqr * 1.5\n",
        "lower, upper = q25 - cut_off, q75 + cut_off\n",
        "\n",
        "outliers = [x for x in df[\"quality\"] if x < lower or x > upper]\n",
        "print('Identified outliers: %d' % len(outliers))\n",
        "\n",
        "outliers_removed = [x for x in df[\"quality\"] if x >= lower and x <= upper]\n",
        "print('Non-outlier observations: {}'.format(len(outliers_removed)))\n",
        "plt.figure(figsize=(12, 5))\n",
        "sns.boxplot(x=df[\"quality\"])\n",
        "plt.show()"
      ]
    },
    {
      "cell_type": "markdown",
      "metadata": {
        "id": "8d_p6Wt7V3Gs"
      },
      "source": [
        "Luego de realizar la eliminación de valores atípicos, la distribución se vería de la siguiente forma."
      ]
    },
    {
      "cell_type": "code",
      "execution_count": null,
      "metadata": {
        "colab": {
          "base_uri": "https://localhost:8080/",
          "height": 480
        },
        "id": "nrSblAWnzvsO",
        "outputId": "f7d2a8f5-1675-4ccb-8909-658356e7a488"
      },
      "outputs": [
        {
          "output_type": "stream",
          "name": "stdout",
          "text": [
            "Identified outliers: 200\n",
            "Non-outlier observations: 4698\n"
          ]
        },
        {
          "output_type": "display_data",
          "data": {
            "text/plain": [
              "<Figure size 1200x500 with 1 Axes>"
            ],
            "image/png": "[encoded data removed]"
          },
          "metadata": {}
        }
      ],
      "source": [
        "cut_off = iqr * 1.5\n",
        "lower, upper = q25 - cut_off, q75 + cut_off\n",
        "\n",
        "outliers = [x for x in df[\"quality\"] if x < lower or x > upper]\n",
        "print('Identified outliers: %d' % len(outliers))\n",
        "\n",
        "outliers_removed = [x for x in df[\"quality\"] if x >= lower and x <= upper]\n",
        "print('Non-outlier observations: %d' % len(outliers_removed))\n",
        "\n",
        "plt.figure(figsize=(12, 5))\n",
        "sns.boxplot(x=outliers_removed)\n",
        "plt.show()"
      ]
    },
    {
      "cell_type": "code",
      "execution_count": null,
      "metadata": {
        "colab": {
          "base_uri": "https://localhost:8080/",
          "height": 1000
        },
        "id": "WSIY3-lQxrrG",
        "outputId": "77000cfd-b740-44b6-a9a0-6af0deeb428a"
      },
      "outputs": [
        {
          "output_type": "execute_result",
          "data": {
            "text/plain": [
              "<Axes: >"
            ]
          },
          "metadata": {},
          "execution_count": 24
        },
        {
          "output_type": "display_data",
          "data": {
            "text/plain": [
              "<Figure size 2000x2000 with 2 Axes>"
            ],
            "image/png": "[encoded data removed]"
          },
          "metadata": {}
        }
      ],
      "source": [
        "corr = df.corr()\n",
        "plt.figure(figsize=(20,20))\n",
        "sns.heatmap(corr,annot=True)"
      ]
    },
    {
      "cell_type": "code",
      "execution_count": null,
      "metadata": {
        "colab": {
          "base_uri": "https://localhost:8080/",
          "height": 425
        },
        "id": "Mi4ZP8Jv05k2",
        "outputId": "11cdd6bc-d66e-486d-fee5-26bcde3bd9cb"
      },
      "outputs": [
        {
          "output_type": "execute_result",
          "data": {
            "text/plain": [
              "                       quality\n",
              "fixed acidity        -0.113663\n",
              "volatile acidity     -0.194723\n",
              "citric acid          -0.009209\n",
              "residual sugar       -0.097577\n",
              "chlorides            -0.209934\n",
              "free sulfur dioxide   0.008158\n",
              "total sulfur dioxide -0.174737\n",
              "density              -0.307123\n",
              "pH                    0.099427\n",
              "sulphates             0.053678\n",
              "alcohol               0.435575\n",
              "quality               1.000000"
            ],
            "text/html": [
              "\n",
              "  <div id=\"df-ca84b190-a13c-4d5b-b9b4-77e9af1b09bf\">\n",
              "    <div class=\"colab-df-container\">\n",
              "      <div>\n",
              "<style scoped>\n",
              "    .dataframe tbody tr th:only-of-type {\n",
              "        vertical-align: middle;\n",
              "    }\n",
              "\n",
              "    .dataframe tbody tr th {\n",
              "        vertical-align: top;\n",
              "    }\n",
              "\n",
              "    .dataframe thead th {\n",
              "        text-align: right;\n",
              "    }\n",
              "</style>\n",
              "<table border=\"1\" class=\"dataframe\">\n",
              "  <thead>\n",
              "    <tr style=\"text-align: right;\">\n",
              "      <th></th>\n",
              "      <th>quality</th>\n",
              "    </tr>\n",
              "  </thead>\n",
              "  <tbody>\n",
              "    <tr>\n",
              "      <th>fixed acidity</th>\n",
              "      <td>-0.113663</td>\n",
              "    </tr>\n",
              "    <tr>\n",
              "      <th>volatile acidity</th>\n",
              "      <td>-0.194723</td>\n",
              "    </tr>\n",
              "    <tr>\n",
              "      <th>citric acid</th>\n",
              "      <td>-0.009209</td>\n",
              "    </tr>\n",
              "    <tr>\n",
              "      <th>residual sugar</th>\n",
              "      <td>-0.097577</td>\n",
              "    </tr>\n",
              "    <tr>\n",
              "      <th>chlorides</th>\n",
              "      <td>-0.209934</td>\n",
              "    </tr>\n",
              "    <tr>\n",
              "      <th>free sulfur dioxide</th>\n",
              "      <td>0.008158</td>\n",
              "    </tr>\n",
              "    <tr>\n",
              "      <th>total sulfur dioxide</th>\n",
              "      <td>-0.174737</td>\n",
              "    </tr>\n",
              "    <tr>\n",
              "      <th>density</th>\n",
              "      <td>-0.307123</td>\n",
              "    </tr>\n",
              "    <tr>\n",
              "      <th>pH</th>\n",
              "      <td>0.099427</td>\n",
              "    </tr>\n",
              "    <tr>\n",
              "      <th>sulphates</th>\n",
              "      <td>0.053678</td>\n",
              "    </tr>\n",
              "    <tr>\n",
              "      <th>alcohol</th>\n",
              "      <td>0.435575</td>\n",
              "    </tr>\n",
              "    <tr>\n",
              "      <th>quality</th>\n",
              "      <td>1.000000</td>\n",
              "    </tr>\n",
              "  </tbody>\n",
              "</table>\n",
              "</div>\n",
              "      <button class=\"colab-df-convert\" onclick=\"convertToInteractive('df-ca84b190-a13c-4d5b-b9b4-77e9af1b09bf')\"\n",
              "              title=\"Convert this dataframe to an interactive table.\"\n",
              "              style=\"display:none;\">\n",
              "        \n",
              "  <svg xmlns=\"http://www.w3.org/2000/svg\" height=\"24px\"viewBox=\"0 0 24 24\"\n",
              "       width=\"24px\">\n",
              "    <path d=\"M0 0h24v24H0V0z\" fill=\"none\"/>\n",
              "    <path d=\"M18.56 5.44l.94 2.06.94-2.06 2.06-.94-2.06-.94-.94-2.06-.94 2.06-2.06.94zm-11 1L8.5 8.5l.94-2.06 2.06-.94-2.06-.94L8.5 2.5l-.94 2.06-2.06.94zm10 10l.94 2.06.94-2.06 2.06-.94-2.06-.94-.94-2.06-.94 2.06-2.06.94z\"/><path d=\"M17.41 7.96l-1.37-1.37c-.4-.4-.92-.59-1.43-.59-.52 0-1.04.2-1.43.59L10.3 9.45l-7.72 7.72c-.78.78-.78 2.05 0 2.83L4 21.41c.39.39.9.59 1.41.59.51 0 1.02-.2 1.41-.59l7.78-7.78 2.81-2.81c.8-.78.8-2.07 0-2.86zM5.41 20L4 18.59l7.72-7.72 1.47 1.35L5.41 20z\"/>\n",
              "  </svg>\n",
              "      </button>\n",
              "      \n",
              "  <style>\n",
              "    .colab-df-container {\n",
              "      display:flex;\n",
              "      flex-wrap:wrap;\n",
              "      gap: 12px;\n",
              "    }\n",
              "\n",
              "    .colab-df-convert {\n",
              "      background-color: #E8F0FE;\n",
              "      border: none;\n",
              "      border-radius: 50%;\n",
              "      cursor: pointer;\n",
              "      display: none;\n",
              "      fill: #1967D2;\n",
              "      height: 32px;\n",
              "      padding: 0 0 0 0;\n",
              "      width: 32px;\n",
              "    }\n",
              "\n",
              "    .colab-df-convert:hover {\n",
              "      background-color: #E2EBFA;\n",
              "      box-shadow: 0px 1px 2px rgba(60, 64, 67, 0.3), 0px 1px 3px 1px rgba(60, 64, 67, 0.15);\n",
              "      fill: #174EA6;\n",
              "    }\n",
              "\n",
              "    [theme=dark] .colab-df-convert {\n",
              "      background-color: #3B4455;\n",
              "      fill: #D2E3FC;\n",
              "    }\n",
              "\n",
              "    [theme=dark] .colab-df-convert:hover {\n",
              "      background-color: #434B5C;\n",
              "      box-shadow: 0px 1px 3px 1px rgba(0, 0, 0, 0.15);\n",
              "      filter: drop-shadow(0px 1px 2px rgba(0, 0, 0, 0.3));\n",
              "      fill: #FFFFFF;\n",
              "    }\n",
              "  </style>\n",
              "\n",
              "      <script>\n",
              "        const buttonEl =\n",
              "          document.querySelector('#df-ca84b190-a13c-4d5b-b9b4-77e9af1b09bf button.colab-df-convert');\n",
              "        buttonEl.style.display =\n",
              "          google.colab.kernel.accessAllowed ? 'block' : 'none';\n",
              "\n",
              "        async function convertToInteractive(key) {\n",
              "          const element = document.querySelector('#df-ca84b190-a13c-4d5b-b9b4-77e9af1b09bf');\n",
              "          const dataTable =\n",
              "            await google.colab.kernel.invokeFunction('convertToInteractive',\n",
              "                                                     [key], {});\n",
              "          if (!dataTable) return;\n",
              "\n",
              "          const docLinkHtml = 'Like what you see? Visit the ' +\n",
              "            '<a target=\"_blank\" href=https://colab.research.google.com/notebooks/data_table.ipynb>data table notebook</a>'\n",
              "            + ' to learn more about interactive tables.';\n",
              "          element.innerHTML = '';\n",
              "          dataTable['output_type'] = 'display_data';\n",
              "          await google.colab.output.renderOutput(dataTable, element);\n",
              "          const docLink = document.createElement('div');\n",
              "          docLink.innerHTML = docLinkHtml;\n",
              "          element.appendChild(docLink);\n",
              "        }\n",
              "      </script>\n",
              "    </div>\n",
              "  </div>\n",
              "  "
            ]
          },
          "metadata": {},
          "execution_count": 25
        }
      ],
      "source": [
        "df.corr().quality.to_frame()"
      ]
    },
    {
      "cell_type": "markdown",
      "metadata": {
        "id": "1KHWeX48lDZY"
      },
      "source": [
        "A partir del diagrama de correlación, se puede deducir que la caracterísitica química que más influye en la calidad del vino blanco es el la cantidad de alcohol en la sustancia."
      ]
    },
    {
      "cell_type": "markdown",
      "metadata": {
        "id": "JdOMSPKos8wS"
      },
      "source": [
        "# Dividir el conjunto en train y test (verificar la misma distribución de las clases en ambos datasets)"
      ]
    },
    {
      "cell_type": "markdown",
      "metadata": {
        "id": "EB7IRTeBtHtf"
      },
      "source": []
    },
    {
      "cell_type": "code",
      "execution_count": null,
      "metadata": {
        "id": "TVtI9fgXssDW"
      },
      "outputs": [],
      "source": [
        "X = df.drop(['quality'],axis = 1)\n",
        "y = df['quality']"
      ]
    },
    {
      "cell_type": "code",
      "execution_count": null,
      "metadata": {
        "id": "CEvhHtxyr1Yg"
      },
      "outputs": [],
      "source": [
        "X_train, X_test, Y_train, y_test = train_test_split(X,y,test_size=0.3, random_state=44, stratify=y)"
      ]
    },
    {
      "cell_type": "code",
      "source": [
        "X_train.hist(figsize=(15,15))"
      ],
      "metadata": {
        "id": "PwGa-dm82OGh",
        "outputId": "990e06d3-dc6c-4f03-cd0f-7d26a0d2a79d",
        "colab": {
          "base_uri": "https://localhost:8080/",
          "height": 1000
        }
      },
      "execution_count": null,
      "outputs": [
        {
          "output_type": "execute_result",
          "data": {
            "text/plain": [
              "array([[<Axes: title={'center': 'fixed acidity'}>,\n",
              "        <Axes: title={'center': 'volatile acidity'}>,\n",
              "        <Axes: title={'center': 'citric acid'}>],\n",
              "       [<Axes: title={'center': 'residual sugar'}>,\n",
              "        <Axes: title={'center': 'chlorides'}>,\n",
              "        <Axes: title={'center': 'free sulfur dioxide'}>],\n",
              "       [<Axes: title={'center': 'total sulfur dioxide'}>,\n",
              "        <Axes: title={'center': 'density'}>,\n",
              "        <Axes: title={'center': 'pH'}>],\n",
              "       [<Axes: title={'center': 'sulphates'}>,\n",
              "        <Axes: title={'center': 'alcohol'}>, <Axes: >]], dtype=object)"
            ]
          },
          "metadata": {},
          "execution_count": 28
        },
        {
          "output_type": "display_data",
          "data": {
            "text/plain": [
              "<Figure size 1500x1500 with 12 Axes>"
            ],
            "image/png": "[encoded data removed]"
          },
          "metadata": {}
        }
      ]
    },
    {
      "cell_type": "code",
      "execution_count": null,
      "metadata": {
        "colab": {
          "base_uri": "https://localhost:8080/"
        },
        "id": "mr_RmdX45XJr",
        "outputId": "a98c858b-d534-4beb-e4f1-4f2fbccfd289"
      },
      "outputs": [
        {
          "output_type": "stream",
          "name": "stdout",
          "text": [
            "<class 'pandas.core.frame.DataFrame'>\n",
            "Int64Index: 3428 entries, 1091 to 302\n",
            "Data columns (total 11 columns):\n",
            " #   Column                Non-Null Count  Dtype  \n",
            "---  ------                --------------  -----  \n",
            " 0   fixed acidity         3428 non-null   float64\n",
            " 1   volatile acidity      3428 non-null   float64\n",
            " 2   citric acid           3428 non-null   float64\n",
            " 3   residual sugar        3428 non-null   float64\n",
            " 4   chlorides             3428 non-null   float64\n",
            " 5   free sulfur dioxide   3428 non-null   float64\n",
            " 6   total sulfur dioxide  3428 non-null   float64\n",
            " 7   density               3428 non-null   float64\n",
            " 8   pH                    3428 non-null   float64\n",
            " 9   sulphates             3428 non-null   float64\n",
            " 10  alcohol               3428 non-null   float64\n",
            "dtypes: float64(11)\n",
            "memory usage: 321.4 KB\n"
          ]
        }
      ],
      "source": [
        "X_train.info()"
      ]
    },
    {
      "cell_type": "markdown",
      "source": [
        "# Crear un pipeline de preprocesamiento."
      ],
      "metadata": {
        "id": "bLluvTu3392u"
      }
    },
    {
      "cell_type": "code",
      "execution_count": null,
      "metadata": {
        "id": "Y6ZBOpNmDlIM"
      },
      "outputs": [],
      "source": [
        "pipeline_numeric = Pipeline([('imputar', SimpleImputer(strategy='median')),\n",
        "                             ('escalado', MinMaxScaler())])"
      ]
    },
    {
      "cell_type": "code",
      "execution_count": null,
      "metadata": {
        "id": "iqKx4-mMD8EK"
      },
      "outputs": [],
      "source": [
        "column_transformer = ColumnTransformer([(\"Pipeline_numerico\", pipeline_numeric, [0,1,2,3,4,5,6,7,8,9,10])])"
      ]
    },
    {
      "cell_type": "code",
      "execution_count": null,
      "metadata": {
        "id": "ut7j9vwhJt7L"
      },
      "outputs": [],
      "source": [
        "z_train = column_transformer.fit_transform(X_train)"
      ]
    },
    {
      "cell_type": "code",
      "execution_count": null,
      "metadata": {
        "colab": {
          "base_uri": "https://localhost:8080/",
          "height": 206
        },
        "id": "HAdN2_WfAc6A",
        "outputId": "7b9a383a-2219-49d3-ee75-c8822cfed3e4"
      },
      "outputs": [
        {
          "output_type": "execute_result",
          "data": {
            "text/plain": [
              "         0         1         2         3         4         5         6   \\\n",
              "0  0.320388  0.127451  0.284553  0.448387  0.115727  0.222997  0.472727   \n",
              "1  0.242718  0.196078  0.227642  0.077419  0.091988  0.111498  0.248951   \n",
              "2  0.291262  0.156863  0.300813  0.177419  0.053412  0.243902  0.288112   \n",
              "3  0.242718  0.137255  0.260163  0.212903  0.056380  0.083624  0.206993   \n",
              "4  0.330097  0.088235  0.292683  0.245161  0.056380  0.285714  0.285315   \n",
              "\n",
              "         7         8         9         10  \n",
              "0  0.478223  0.300000  0.290698  0.145161  \n",
              "1  0.217766  0.481818  0.290698  0.500000  \n",
              "2  0.161708  0.427273  0.139535  0.709677  \n",
              "3  0.253989  0.372727  0.383721  0.467742  \n",
              "4  0.241915  0.381818  0.220930  0.709677  "
            ],
            "text/html": [
              "\n",
              "  <div id=\"df-6378c6b7-64e1-4e2a-be67-de7477aaeb18\">\n",
              "    <div class=\"colab-df-container\">\n",
              "      <div>\n",
              "<style scoped>\n",
              "    .dataframe tbody tr th:only-of-type {\n",
              "        vertical-align: middle;\n",
              "    }\n",
              "\n",
              "    .dataframe tbody tr th {\n",
              "        vertical-align: top;\n",
              "    }\n",
              "\n",
              "    .dataframe thead th {\n",
              "        text-align: right;\n",
              "    }\n",
              "</style>\n",
              "<table border=\"1\" class=\"dataframe\">\n",
              "  <thead>\n",
              "    <tr style=\"text-align: right;\">\n",
              "      <th></th>\n",
              "      <th>0</th>\n",
              "      <th>1</th>\n",
              "      <th>2</th>\n",
              "      <th>3</th>\n",
              "      <th>4</th>\n",
              "      <th>5</th>\n",
              "      <th>6</th>\n",
              "      <th>7</th>\n",
              "      <th>8</th>\n",
              "      <th>9</th>\n",
              "      <th>10</th>\n",
              "    </tr>\n",
              "  </thead>\n",
              "  <tbody>\n",
              "    <tr>\n",
              "      <th>0</th>\n",
              "      <td>0.320388</td>\n",
              "      <td>0.127451</td>\n",
              "      <td>0.284553</td>\n",
              "      <td>0.448387</td>\n",
              "      <td>0.115727</td>\n",
              "      <td>0.222997</td>\n",
              "      <td>0.472727</td>\n",
              "      <td>0.478223</td>\n",
              "      <td>0.300000</td>\n",
              "      <td>0.290698</td>\n",
              "      <td>0.145161</td>\n",
              "    </tr>\n",
              "    <tr>\n",
              "      <th>1</th>\n",
              "      <td>0.242718</td>\n",
              "      <td>0.196078</td>\n",
              "      <td>0.227642</td>\n",
              "      <td>0.077419</td>\n",
              "      <td>0.091988</td>\n",
              "      <td>0.111498</td>\n",
              "      <td>0.248951</td>\n",
              "      <td>0.217766</td>\n",
              "      <td>0.481818</td>\n",
              "      <td>0.290698</td>\n",
              "      <td>0.500000</td>\n",
              "    </tr>\n",
              "    <tr>\n",
              "      <th>2</th>\n",
              "      <td>0.291262</td>\n",
              "      <td>0.156863</td>\n",
              "      <td>0.300813</td>\n",
              "      <td>0.177419</td>\n",
              "      <td>0.053412</td>\n",
              "      <td>0.243902</td>\n",
              "      <td>0.288112</td>\n",
              "      <td>0.161708</td>\n",
              "      <td>0.427273</td>\n",
              "      <td>0.139535</td>\n",
              "      <td>0.709677</td>\n",
              "    </tr>\n",
              "    <tr>\n",
              "      <th>3</th>\n",
              "      <td>0.242718</td>\n",
              "      <td>0.137255</td>\n",
              "      <td>0.260163</td>\n",
              "      <td>0.212903</td>\n",
              "      <td>0.056380</td>\n",
              "      <td>0.083624</td>\n",
              "      <td>0.206993</td>\n",
              "      <td>0.253989</td>\n",
              "      <td>0.372727</td>\n",
              "      <td>0.383721</td>\n",
              "      <td>0.467742</td>\n",
              "    </tr>\n",
              "    <tr>\n",
              "      <th>4</th>\n",
              "      <td>0.330097</td>\n",
              "      <td>0.088235</td>\n",
              "      <td>0.292683</td>\n",
              "      <td>0.245161</td>\n",
              "      <td>0.056380</td>\n",
              "      <td>0.285714</td>\n",
              "      <td>0.285315</td>\n",
              "      <td>0.241915</td>\n",
              "      <td>0.381818</td>\n",
              "      <td>0.220930</td>\n",
              "      <td>0.709677</td>\n",
              "    </tr>\n",
              "  </tbody>\n",
              "</table>\n",
              "</div>\n",
              "      <button class=\"colab-df-convert\" onclick=\"convertToInteractive('df-6378c6b7-64e1-4e2a-be67-de7477aaeb18')\"\n",
              "              title=\"Convert this dataframe to an interactive table.\"\n",
              "              style=\"display:none;\">\n",
              "        \n",
              "  <svg xmlns=\"http://www.w3.org/2000/svg\" height=\"24px\"viewBox=\"0 0 24 24\"\n",
              "       width=\"24px\">\n",
              "    <path d=\"M0 0h24v24H0V0z\" fill=\"none\"/>\n",
              "    <path d=\"M18.56 5.44l.94 2.06.94-2.06 2.06-.94-2.06-.94-.94-2.06-.94 2.06-2.06.94zm-11 1L8.5 8.5l.94-2.06 2.06-.94-2.06-.94L8.5 2.5l-.94 2.06-2.06.94zm10 10l.94 2.06.94-2.06 2.06-.94-2.06-.94-.94-2.06-.94 2.06-2.06.94z\"/><path d=\"M17.41 7.96l-1.37-1.37c-.4-.4-.92-.59-1.43-.59-.52 0-1.04.2-1.43.59L10.3 9.45l-7.72 7.72c-.78.78-.78 2.05 0 2.83L4 21.41c.39.39.9.59 1.41.59.51 0 1.02-.2 1.41-.59l7.78-7.78 2.81-2.81c.8-.78.8-2.07 0-2.86zM5.41 20L4 18.59l7.72-7.72 1.47 1.35L5.41 20z\"/>\n",
              "  </svg>\n",
              "      </button>\n",
              "      \n",
              "  <style>\n",
              "    .colab-df-container {\n",
              "      display:flex;\n",
              "      flex-wrap:wrap;\n",
              "      gap: 12px;\n",
              "    }\n",
              "\n",
              "    .colab-df-convert {\n",
              "      background-color: #E8F0FE;\n",
              "      border: none;\n",
              "      border-radius: 50%;\n",
              "      cursor: pointer;\n",
              "      display: none;\n",
              "      fill: #1967D2;\n",
              "      height: 32px;\n",
              "      padding: 0 0 0 0;\n",
              "      width: 32px;\n",
              "    }\n",
              "\n",
              "    .colab-df-convert:hover {\n",
              "      background-color: #E2EBFA;\n",
              "      box-shadow: 0px 1px 2px rgba(60, 64, 67, 0.3), 0px 1px 3px 1px rgba(60, 64, 67, 0.15);\n",
              "      fill: #174EA6;\n",
              "    }\n",
              "\n",
              "    [theme=dark] .colab-df-convert {\n",
              "      background-color: #3B4455;\n",
              "      fill: #D2E3FC;\n",
              "    }\n",
              "\n",
              "    [theme=dark] .colab-df-convert:hover {\n",
              "      background-color: #434B5C;\n",
              "      box-shadow: 0px 1px 3px 1px rgba(0, 0, 0, 0.15);\n",
              "      filter: drop-shadow(0px 1px 2px rgba(0, 0, 0, 0.3));\n",
              "      fill: #FFFFFF;\n",
              "    }\n",
              "  </style>\n",
              "\n",
              "      <script>\n",
              "        const buttonEl =\n",
              "          document.querySelector('#df-6378c6b7-64e1-4e2a-be67-de7477aaeb18 button.colab-df-convert');\n",
              "        buttonEl.style.display =\n",
              "          google.colab.kernel.accessAllowed ? 'block' : 'none';\n",
              "\n",
              "        async function convertToInteractive(key) {\n",
              "          const element = document.querySelector('#df-6378c6b7-64e1-4e2a-be67-de7477aaeb18');\n",
              "          const dataTable =\n",
              "            await google.colab.kernel.invokeFunction('convertToInteractive',\n",
              "                                                     [key], {});\n",
              "          if (!dataTable) return;\n",
              "\n",
              "          const docLinkHtml = 'Like what you see? Visit the ' +\n",
              "            '<a target=\"_blank\" href=https://colab.research.google.com/notebooks/data_table.ipynb>data table notebook</a>'\n",
              "            + ' to learn more about interactive tables.';\n",
              "          element.innerHTML = '';\n",
              "          dataTable['output_type'] = 'display_data';\n",
              "          await google.colab.output.renderOutput(dataTable, element);\n",
              "          const docLink = document.createElement('div');\n",
              "          docLink.innerHTML = docLinkHtml;\n",
              "          element.appendChild(docLink);\n",
              "        }\n",
              "      </script>\n",
              "    </div>\n",
              "  </div>\n",
              "  "
            ]
          },
          "metadata": {},
          "execution_count": 33
        }
      ],
      "source": [
        "pd.DataFrame(z_train).head()"
      ]
    },
    {
      "cell_type": "markdown",
      "metadata": {
        "id": "6TG1Eb-mtQmT"
      },
      "source": [
        "# Realizar validación cruzada de cv 10 probando mínimo 3 modelos"
      ]
    },
    {
      "cell_type": "markdown",
      "metadata": {
        "id": "G6GGQAMdYRy_"
      },
      "source": [
        " Modelo de KNeighborsClassifier"
      ]
    },
    {
      "cell_type": "code",
      "execution_count": null,
      "metadata": {
        "colab": {
          "base_uri": "https://localhost:8080/"
        },
        "id": "0xGxnF0QSkvj",
        "outputId": "315bab80-c61e-4a86-e9f8-a96a8f0cd6a3"
      },
      "outputs": [
        {
          "output_type": "stream",
          "name": "stderr",
          "text": [
            "/usr/local/lib/python3.9/dist-packages/sklearn/model_selection/_split.py:700: UserWarning: The least populated class in y has only 4 members, which is less than n_splits=10.\n",
            "  warnings.warn(\n"
          ]
        },
        {
          "output_type": "execute_result",
          "data": {
            "text/plain": [
              "{'fit_time': array([0.01288295, 0.01917744, 0.0413363 , 0.00727534, 0.01663494,\n",
              "        0.02761626, 0.00683188, 0.00707436, 0.01409554, 0.00750661]),\n",
              " 'score_time': array([0.13115025, 0.13133216, 0.20932937, 0.05195451, 0.05936241,\n",
              "        0.09381127, 0.05969834, 0.12572718, 0.10085464, 0.07829428]),\n",
              " 'test_score': array([0.62099125, 0.56851312, 0.51603499, 0.56268222, 0.55102041,\n",
              "        0.54810496, 0.51311953, 0.55685131, 0.5497076 , 0.55847953]),\n",
              " 'train_score': array([0.69400324, 0.7082658 , 0.70664506, 0.70405186, 0.70664506,\n",
              "        0.70340357, 0.70599676, 0.70340357, 0.6941024 , 0.70479585])}"
            ]
          },
          "metadata": {},
          "execution_count": 34
        }
      ],
      "source": [
        "model = KNeighborsClassifier(n_neighbors=5)\n",
        "model.fit(z_train, Y_train)\n",
        "results = cross_validate(model, z_train, Y_train, cv=10, return_train_score=True)\n",
        "results"
      ]
    },
    {
      "cell_type": "code",
      "execution_count": null,
      "metadata": {
        "colab": {
          "base_uri": "https://localhost:8080/"
        },
        "id": "ZpvHJUEp79_U",
        "outputId": "ac03630b-273f-4ae7-d85e-c7526657ee01"
      },
      "outputs": [
        {
          "output_type": "stream",
          "name": "stdout",
          "text": [
            "Coefficient of determination in the training set:  70.91598599766627 %\n"
          ]
        }
      ],
      "source": [
        "train_score = model.score(z_train, Y_train)\n",
        "print(\"Coefficient of determination in the training set: \", train_score*100,\"%\")"
      ]
    },
    {
      "cell_type": "markdown",
      "metadata": {
        "id": "NbFvy8FZYn-l"
      },
      "source": [
        "Porcentaje de precision"
      ]
    },
    {
      "cell_type": "code",
      "execution_count": null,
      "metadata": {
        "colab": {
          "base_uri": "https://localhost:8080/"
        },
        "id": "i_h9VkffeWtz",
        "outputId": "8c403a3a-1f2e-4dcf-b393-25f468b121dc"
      },
      "outputs": [
        {
          "output_type": "stream",
          "name": "stderr",
          "text": [
            "/usr/local/lib/python3.9/dist-packages/sklearn/model_selection/_split.py:700: UserWarning: The least populated class in y has only 4 members, which is less than n_splits=5.\n",
            "  warnings.warn(\n"
          ]
        },
        {
          "output_type": "stream",
          "name": "stdout",
          "text": [
            "Acc train: 69.7417975016573 +- Acc train: 0.003949002796200275\n",
            "+- Acc validation: 54.92979506714052 +- Acc validation: 0.011298134270543657\n"
          ]
        }
      ],
      "source": [
        "results = cross_validate(model, z_train, Y_train, cv=5, return_train_score=True)\n",
        "results\n",
        "\n",
        "print(f\"Acc train: {results['train_score'].mean()*100}\",\n",
        "      \"+-\", f\"Acc train: {results['train_score'].std()}\")\n",
        "\n",
        "print(\"+-\", f\"Acc validation: {results['test_score'].mean()*100}\",\n",
        "      \"+-\", f\"Acc validation: {results['test_score'].std()}\")"
      ]
    },
    {
      "cell_type": "code",
      "execution_count": null,
      "metadata": {
        "id": "OuLf-h6XiMkn"
      },
      "outputs": [],
      "source": [
        "grid = {\"n_neighbors\": [2, 6, 8],\n",
        "        \"weights\": [\"uniform\", \"distance\"]}"
      ]
    },
    {
      "cell_type": "code",
      "execution_count": null,
      "metadata": {
        "id": "LBA2n1risH8B"
      },
      "outputs": [],
      "source": [
        "from sklearn.model_selection import GridSearchCV\n",
        "\n",
        "grid_search = GridSearchCV(\n",
        "    KNeighborsClassifier(),\n",
        "    grid,\n",
        "    cv = 4,\n",
        "    return_train_score=True,\n",
        "    scoring='accuracy'\n",
        ")"
      ]
    },
    {
      "cell_type": "code",
      "execution_count": null,
      "metadata": {
        "colab": {
          "base_uri": "https://localhost:8080/",
          "height": 117
        },
        "id": "TsGvi7xjsxd4",
        "outputId": "764978b1-1553-47d5-fb88-28e7136fbf47"
      },
      "outputs": [
        {
          "output_type": "execute_result",
          "data": {
            "text/plain": [
              "GridSearchCV(cv=4, estimator=KNeighborsClassifier(),\n",
              "             param_grid={'n_neighbors': [2, 6, 8],\n",
              "                         'weights': ['uniform', 'distance']},\n",
              "             return_train_score=True, scoring='accuracy')"
            ],
            "text/html": [
              "<style>#sk-container-id-1 {color: black;background-color: white;}#sk-container-id-1 pre{padding: 0;}#sk-container-id-1 div.sk-toggleable {background-color: white;}#sk-container-id-1 label.sk-toggleable__label {cursor: pointer;display: block;width: 100%;margin-bottom: 0;padding: 0.3em;box-sizing: border-box;text-align: center;}#sk-container-id-1 label.sk-toggleable__label-arrow:before {content: \"▸\";float: left;margin-right: 0.25em;color: #696969;}#sk-container-id-1 label.sk-toggleable__label-arrow:hover:before {color: black;}#sk-container-id-1 div.sk-estimator:hover label.sk-toggleable__label-arrow:before {color: black;}#sk-container-id-1 div.sk-toggleable__content {max-height: 0;max-width: 0;overflow: hidden;text-align: left;background-color: #f0f8ff;}#sk-container-id-1 div.sk-toggleable__content pre {margin: 0.2em;color: black;border-radius: 0.25em;background-color: #f0f8ff;}#sk-container-id-1 input.sk-toggleable__control:checked~div.sk-toggleable__content {max-height: 200px;max-width: 100%;overflow: auto;}#sk-container-id-1 input.sk-toggleable__control:checked~label.sk-toggleable__label-arrow:before {content: \"▾\";}#sk-container-id-1 div.sk-estimator input.sk-toggleable__control:checked~label.sk-toggleable__label {background-color: #d4ebff;}#sk-container-id-1 div.sk-label input.sk-toggleable__control:checked~label.sk-toggleable__label {background-color: #d4ebff;}#sk-container-id-1 input.sk-hidden--visually {border: 0;clip: rect(1px 1px 1px 1px);clip: rect(1px, 1px, 1px, 1px);height: 1px;margin: -1px;overflow: hidden;padding: 0;position: absolute;width: 1px;}#sk-container-id-1 div.sk-estimator {font-family: monospace;background-color: #f0f8ff;border: 1px dotted black;border-radius: 0.25em;box-sizing: border-box;margin-bottom: 0.5em;}#sk-container-id-1 div.sk-estimator:hover {background-color: #d4ebff;}#sk-container-id-1 div.sk-parallel-item::after {content: \"\";width: 100%;border-bottom: 1px solid gray;flex-grow: 1;}#sk-container-id-1 div.sk-label:hover label.sk-toggleable__label {background-color: #d4ebff;}#sk-container-id-1 div.sk-serial::before {content: \"\";position: absolute;border-left: 1px solid gray;box-sizing: border-box;top: 0;bottom: 0;left: 50%;z-index: 0;}#sk-container-id-1 div.sk-serial {display: flex;flex-direction: column;align-items: center;background-color: white;padding-right: 0.2em;padding-left: 0.2em;position: relative;}#sk-container-id-1 div.sk-item {position: relative;z-index: 1;}#sk-container-id-1 div.sk-parallel {display: flex;align-items: stretch;justify-content: center;background-color: white;position: relative;}#sk-container-id-1 div.sk-item::before, #sk-container-id-1 div.sk-parallel-item::before {content: \"\";position: absolute;border-left: 1px solid gray;box-sizing: border-box;top: 0;bottom: 0;left: 50%;z-index: -1;}#sk-container-id-1 div.sk-parallel-item {display: flex;flex-direction: column;z-index: 1;position: relative;background-color: white;}#sk-container-id-1 div.sk-parallel-item:first-child::after {align-self: flex-end;width: 50%;}#sk-container-id-1 div.sk-parallel-item:last-child::after {align-self: flex-start;width: 50%;}#sk-container-id-1 div.sk-parallel-item:only-child::after {width: 0;}#sk-container-id-1 div.sk-dashed-wrapped {border: 1px dashed gray;margin: 0 0.4em 0.5em 0.4em;box-sizing: border-box;padding-bottom: 0.4em;background-color: white;}#sk-container-id-1 div.sk-label label {font-family: monospace;font-weight: bold;display: inline-block;line-height: 1.2em;}#sk-container-id-1 div.sk-label-container {text-align: center;}#sk-container-id-1 div.sk-container {/* jupyter's `normalize.less` sets `[hidden] { display: none; }` but bootstrap.min.css set `[hidden] { display: none !important; }` so we also need the `!important` here to be able to override the default hidden behavior on the sphinx rendered scikit-learn.org. See: https://github.com/scikit-learn/scikit-learn/issues/21755 */display: inline-block !important;position: relative;}#sk-container-id-1 div.sk-text-repr-fallback {display: none;}</style><div id=\"sk-container-id-1\" class=\"sk-top-container\"><div class=\"sk-text-repr-fallback\"><pre>GridSearchCV(cv=4, estimator=KNeighborsClassifier(),\n",
              "             param_grid={&#x27;n_neighbors&#x27;: [2, 6, 8],\n",
              "                         &#x27;weights&#x27;: [&#x27;uniform&#x27;, &#x27;distance&#x27;]},\n",
              "             return_train_score=True, scoring=&#x27;accuracy&#x27;)</pre><b>In a Jupyter environment, please rerun this cell to show the HTML representation or trust the notebook. <br />On GitHub, the HTML representation is unable to render, please try loading this page with nbviewer.org.</b></div><div class=\"sk-container\" hidden><div class=\"sk-item sk-dashed-wrapped\"><div class=\"sk-label-container\"><div class=\"sk-label sk-toggleable\"><input class=\"sk-toggleable__control sk-hidden--visually\" id=\"sk-estimator-id-1\" type=\"checkbox\" ><label for=\"sk-estimator-id-1\" class=\"sk-toggleable__label sk-toggleable__label-arrow\">GridSearchCV</label><div class=\"sk-toggleable__content\"><pre>GridSearchCV(cv=4, estimator=KNeighborsClassifier(),\n",
              "             param_grid={&#x27;n_neighbors&#x27;: [2, 6, 8],\n",
              "                         &#x27;weights&#x27;: [&#x27;uniform&#x27;, &#x27;distance&#x27;]},\n",
              "             return_train_score=True, scoring=&#x27;accuracy&#x27;)</pre></div></div></div><div class=\"sk-parallel\"><div class=\"sk-parallel-item\"><div class=\"sk-item\"><div class=\"sk-label-container\"><div class=\"sk-label sk-toggleable\"><input class=\"sk-toggleable__control sk-hidden--visually\" id=\"sk-estimator-id-2\" type=\"checkbox\" ><label for=\"sk-estimator-id-2\" class=\"sk-toggleable__label sk-toggleable__label-arrow\">estimator: KNeighborsClassifier</label><div class=\"sk-toggleable__content\"><pre>KNeighborsClassifier()</pre></div></div></div><div class=\"sk-serial\"><div class=\"sk-item\"><div class=\"sk-estimator sk-toggleable\"><input class=\"sk-toggleable__control sk-hidden--visually\" id=\"sk-estimator-id-3\" type=\"checkbox\" ><label for=\"sk-estimator-id-3\" class=\"sk-toggleable__label sk-toggleable__label-arrow\">KNeighborsClassifier</label><div class=\"sk-toggleable__content\"><pre>KNeighborsClassifier()</pre></div></div></div></div></div></div></div></div></div></div>"
            ]
          },
          "metadata": {},
          "execution_count": 39
        }
      ],
      "source": [
        "grid_search.fit(z_train, Y_train)"
      ]
    },
    {
      "cell_type": "code",
      "execution_count": null,
      "metadata": {
        "colab": {
          "base_uri": "https://localhost:8080/"
        },
        "id": "BrVEuiqnvzaJ",
        "outputId": "733829b3-4e59-4354-98df-1f9e193a1887"
      },
      "outputs": [
        {
          "output_type": "execute_result",
          "data": {
            "text/plain": [
              "{'n_neighbors': 8, 'weights': 'distance'}"
            ]
          },
          "metadata": {},
          "execution_count": 40
        }
      ],
      "source": [
        "grid_search.best_params_"
      ]
    },
    {
      "cell_type": "code",
      "execution_count": null,
      "metadata": {
        "colab": {
          "base_uri": "https://localhost:8080/"
        },
        "id": "jWjPGo-xvX__",
        "outputId": "1d271a77-c3df-4b43-9abc-c1f0b2581996"
      },
      "outputs": [
        {
          "output_type": "execute_result",
          "data": {
            "text/plain": [
              "0.6306884480746792"
            ]
          },
          "metadata": {},
          "execution_count": 41
        }
      ],
      "source": [
        "grid_search.best_score_\n"
      ]
    },
    {
      "cell_type": "markdown",
      "metadata": {
        "id": "orsITVPAYlKG"
      },
      "source": [
        "Metricas de rendimiento en clasificación"
      ]
    },
    {
      "cell_type": "code",
      "execution_count": null,
      "metadata": {
        "id": "LZ71hoc5f72m"
      },
      "outputs": [],
      "source": [
        "predicte_quality = model.predict(z_train)"
      ]
    },
    {
      "cell_type": "code",
      "execution_count": null,
      "metadata": {
        "colab": {
          "base_uri": "https://localhost:8080/"
        },
        "id": "-wnK-Rw1pzo7",
        "outputId": "bf349a0e-8826-4df6-c263-31ab31ca6503"
      },
      "outputs": [
        {
          "output_type": "stream",
          "name": "stdout",
          "text": [
            "              precision    recall  f1-score   support\n",
            "\n",
            "           3       0.00      0.00      0.00        14\n",
            "           4       0.62      0.37      0.46       114\n",
            "           5       0.69      0.76      0.73      1020\n",
            "           6       0.72      0.78      0.75      1538\n",
            "           7       0.71      0.62      0.67       616\n",
            "           8       0.85      0.29      0.43       122\n",
            "           9       0.00      0.00      0.00         4\n",
            "\n",
            "    accuracy                           0.71      3428\n",
            "   macro avg       0.51      0.40      0.43      3428\n",
            "weighted avg       0.71      0.71      0.70      3428\n",
            "\n"
          ]
        },
        {
          "output_type": "stream",
          "name": "stderr",
          "text": [
            "/usr/local/lib/python3.9/dist-packages/sklearn/metrics/_classification.py:1344: UndefinedMetricWarning: Precision and F-score are ill-defined and being set to 0.0 in labels with no predicted samples. Use `zero_division` parameter to control this behavior.\n",
            "  _warn_prf(average, modifier, msg_start, len(result))\n",
            "/usr/local/lib/python3.9/dist-packages/sklearn/metrics/_classification.py:1344: UndefinedMetricWarning: Precision and F-score are ill-defined and being set to 0.0 in labels with no predicted samples. Use `zero_division` parameter to control this behavior.\n",
            "  _warn_prf(average, modifier, msg_start, len(result))\n",
            "/usr/local/lib/python3.9/dist-packages/sklearn/metrics/_classification.py:1344: UndefinedMetricWarning: Precision and F-score are ill-defined and being set to 0.0 in labels with no predicted samples. Use `zero_division` parameter to control this behavior.\n",
            "  _warn_prf(average, modifier, msg_start, len(result))\n"
          ]
        }
      ],
      "source": [
        "from sklearn import metrics\n",
        "\n",
        "print(metrics.classification_report(Y_train, predicte_quality))"
      ]
    },
    {
      "cell_type": "code",
      "execution_count": null,
      "metadata": {
        "colab": {
          "base_uri": "https://localhost:8080/"
        },
        "id": "dOddKlyqIEba",
        "outputId": "42fac729-1577-48d9-ec2b-902641cfbfc8"
      },
      "outputs": [
        {
          "output_type": "execute_result",
          "data": {
            "text/plain": [
              "array([[   0,    3,    7,    4,    0,    0,    0],\n",
              "       [   0,   42,   44,   22,    5,    1,    0],\n",
              "       [   1,   16,  777,  211,   15,    0,    0],\n",
              "       [   0,    7,  245, 1193,   90,    3,    0],\n",
              "       [   0,    0,   43,  187,  384,    2,    0],\n",
              "       [   0,    0,    2,   42,   43,   35,    0],\n",
              "       [   0,    0,    1,    2,    1,    0,    0]])"
            ]
          },
          "metadata": {},
          "execution_count": 44
        }
      ],
      "source": [
        "confusion_matrix(Y_train,predicte_quality)"
      ]
    },
    {
      "cell_type": "markdown",
      "metadata": {
        "id": "DY61wqxgi8qh"
      },
      "source": [
        "Modelo Random Forest Clasifier"
      ]
    },
    {
      "cell_type": "code",
      "execution_count": null,
      "metadata": {
        "colab": {
          "base_uri": "https://localhost:8080/"
        },
        "id": "7QrFLMJxAjC-",
        "outputId": "adcb5bdf-fae2-4f84-9a43-df33d106e2e5"
      },
      "outputs": [
        {
          "output_type": "stream",
          "name": "stderr",
          "text": [
            "/usr/local/lib/python3.9/dist-packages/sklearn/model_selection/_split.py:700: UserWarning: The least populated class in y has only 4 members, which is less than n_splits=10.\n",
            "  warnings.warn(\n"
          ]
        },
        {
          "output_type": "execute_result",
          "data": {
            "text/plain": [
              "{'fit_time': array([0.66379762, 0.65975499, 0.62955999, 0.6299448 , 0.63345766,\n",
              "        0.65197945, 0.84371591, 0.94111967, 0.91819835, 1.16875243]),\n",
              " 'score_time': array([0.02148461, 0.02172542, 0.02241921, 0.01846457, 0.02021599,\n",
              "        0.0186584 , 0.02686262, 0.02645159, 0.01887751, 0.07368231]),\n",
              " 'test_score': array([0.63265306, 0.60349854, 0.63265306, 0.61516035, 0.63556851,\n",
              "        0.61516035, 0.63848397, 0.62390671, 0.63450292, 0.62865497]),\n",
              " 'train_score': array([0.84862237, 0.85640194, 0.8547812 , 0.85445705, 0.85672609,\n",
              "        0.85316045, 0.86256078, 0.86029173, 0.85677252, 0.85774465])}"
            ]
          },
          "metadata": {},
          "execution_count": 45
        }
      ],
      "source": [
        "model = RandomForestClassifier(max_depth=10)\n",
        "model.fit(z_train, Y_train)\n",
        "results = cross_validate(model, z_train, Y_train, cv=10, return_train_score=True)\n",
        "results"
      ]
    },
    {
      "cell_type": "markdown",
      "metadata": {
        "id": "yKV9PXUejDW6"
      },
      "source": [
        "Porcentaje de precisión"
      ]
    },
    {
      "cell_type": "code",
      "execution_count": null,
      "metadata": {
        "colab": {
          "base_uri": "https://localhost:8080/"
        },
        "id": "pyFGZkvqAjDD",
        "outputId": "34c013f2-1304-4346-eadc-18fe72d0cb8f"
      },
      "outputs": [
        {
          "output_type": "stream",
          "name": "stdout",
          "text": [
            "Coefficient of determination in the training set:  84.77246207701283 %\n"
          ]
        }
      ],
      "source": [
        "train_score = model.score(z_train, Y_train)\n",
        "print(\"Coefficient of determination in the training set: \", train_score*100,\"%\")"
      ]
    },
    {
      "cell_type": "code",
      "execution_count": null,
      "metadata": {
        "id": "tCo8GwZOAjDG",
        "colab": {
          "base_uri": "https://localhost:8080/"
        },
        "outputId": "f309fc84-3dcb-421c-d9e9-4b85bc5bbb26"
      },
      "outputs": [
        {
          "output_type": "stream",
          "name": "stderr",
          "text": [
            "/usr/local/lib/python3.9/dist-packages/sklearn/model_selection/_split.py:700: UserWarning: The least populated class in y has only 4 members, which is less than n_splits=10.\n",
            "  warnings.warn(\n"
          ]
        },
        {
          "output_type": "stream",
          "name": "stdout",
          "text": [
            "Acc train: 85.84209547798338 +- 0.0039252833348506514\n",
            "Acc val: 62.66022198353025 % +- 0.8830890036206659 %\n"
          ]
        }
      ],
      "source": [
        "results = cross_validate(model, z_train, Y_train, cv=10, return_train_score=True)\n",
        "results\n",
        "\n",
        "print(f\"Acc train:\", results['train_score'].mean()*100,\n",
        "    \"+-\", results['train_score'].std())\n",
        "print(f\"Acc val:\", results['test_score'].mean()*100,'%',\n",
        "    \"+-\", results['test_score'].std()*100,'%')"
      ]
    },
    {
      "cell_type": "markdown",
      "metadata": {
        "id": "UdiuylqhjIz4"
      },
      "source": [
        "Métricas de regresión"
      ]
    },
    {
      "cell_type": "code",
      "execution_count": null,
      "metadata": {
        "id": "oKlWSj9Hszbg",
        "colab": {
          "base_uri": "https://localhost:8080/"
        },
        "outputId": "a347b5bf-81b1-4fff-de68-5a0eb44f3afb"
      },
      "outputs": [
        {
          "output_type": "stream",
          "name": "stdout",
          "text": [
            "              precision    recall  f1-score   support\n",
            "\n",
            "           3       0.00      0.00      0.00        14\n",
            "           4       0.62      0.37      0.46       114\n",
            "           5       0.69      0.76      0.73      1020\n",
            "           6       0.72      0.78      0.75      1538\n",
            "           7       0.71      0.62      0.67       616\n",
            "           8       0.85      0.29      0.43       122\n",
            "           9       0.00      0.00      0.00         4\n",
            "\n",
            "    accuracy                           0.71      3428\n",
            "   macro avg       0.51      0.40      0.43      3428\n",
            "weighted avg       0.71      0.71      0.70      3428\n",
            "\n"
          ]
        },
        {
          "output_type": "stream",
          "name": "stderr",
          "text": [
            "/usr/local/lib/python3.9/dist-packages/sklearn/metrics/_classification.py:1344: UndefinedMetricWarning: Precision and F-score are ill-defined and being set to 0.0 in labels with no predicted samples. Use `zero_division` parameter to control this behavior.\n",
            "  _warn_prf(average, modifier, msg_start, len(result))\n",
            "/usr/local/lib/python3.9/dist-packages/sklearn/metrics/_classification.py:1344: UndefinedMetricWarning: Precision and F-score are ill-defined and being set to 0.0 in labels with no predicted samples. Use `zero_division` parameter to control this behavior.\n",
            "  _warn_prf(average, modifier, msg_start, len(result))\n",
            "/usr/local/lib/python3.9/dist-packages/sklearn/metrics/_classification.py:1344: UndefinedMetricWarning: Precision and F-score are ill-defined and being set to 0.0 in labels with no predicted samples. Use `zero_division` parameter to control this behavior.\n",
            "  _warn_prf(average, modifier, msg_start, len(result))\n"
          ]
        }
      ],
      "source": [
        "print(metrics.classification_report(Y_train, predicte_quality))"
      ]
    },
    {
      "cell_type": "code",
      "execution_count": null,
      "metadata": {
        "id": "P1yCec8SIDIh",
        "colab": {
          "base_uri": "https://localhost:8080/"
        },
        "outputId": "d8f1d95b-70f0-4856-ffef-7cddc4c168b5"
      },
      "outputs": [
        {
          "output_type": "execute_result",
          "data": {
            "text/plain": [
              "array([[   0,    3,    7,    4,    0,    0,    0],\n",
              "       [   0,   42,   44,   22,    5,    1,    0],\n",
              "       [   1,   16,  777,  211,   15,    0,    0],\n",
              "       [   0,    7,  245, 1193,   90,    3,    0],\n",
              "       [   0,    0,   43,  187,  384,    2,    0],\n",
              "       [   0,    0,    2,   42,   43,   35,    0],\n",
              "       [   0,    0,    1,    2,    1,    0,    0]])"
            ]
          },
          "metadata": {},
          "execution_count": 49
        }
      ],
      "source": [
        "confusion_matrix(Y_train,predicte_quality)"
      ]
    },
    {
      "cell_type": "markdown",
      "metadata": {
        "id": "V1vPaGpUjLQn"
      },
      "source": [
        "Modelo de DecisionTreeClassifier"
      ]
    },
    {
      "cell_type": "code",
      "execution_count": null,
      "metadata": {
        "id": "R9WeXkJCeNK8",
        "colab": {
          "base_uri": "https://localhost:8080/"
        },
        "outputId": "df6cd51a-cfe1-4352-d15b-5645c3975caf"
      },
      "outputs": [
        {
          "output_type": "stream",
          "name": "stderr",
          "text": [
            "/usr/local/lib/python3.9/dist-packages/sklearn/model_selection/_split.py:700: UserWarning: The least populated class in y has only 4 members, which is less than n_splits=10.\n",
            "  warnings.warn(\n"
          ]
        },
        {
          "output_type": "execute_result",
          "data": {
            "text/plain": [
              "{'fit_time': array([0.07174945, 0.05281258, 0.02392745, 0.02378798, 0.02329898,\n",
              "        0.02293515, 0.02282166, 0.0239749 , 0.02369905, 0.02684259]),\n",
              " 'score_time': array([0.00198293, 0.00159883, 0.00132799, 0.00127745, 0.00127673,\n",
              "        0.00144386, 0.00123501, 0.00124073, 0.00127935, 0.00137234]),\n",
              " 'test_score': array([0.5393586 , 0.51311953, 0.51603499, 0.50728863, 0.56559767,\n",
              "        0.56268222, 0.5451895 , 0.49562682, 0.5877193 , 0.55263158]),\n",
              " 'train_score': array([0.8184765 , 0.8363047 , 0.86742301, 0.81491086, 0.83209076,\n",
              "        0.8350081 , 0.81069692, 0.82787682, 0.81335062, 0.85093973])}"
            ]
          },
          "metadata": {},
          "execution_count": 50
        }
      ],
      "source": [
        "model = DecisionTreeClassifier(max_depth=12)\n",
        "model.fit(z_train, Y_train)\n",
        "results = cross_validate(model, z_train, Y_train, cv=10, return_train_score=True)\n",
        "results"
      ]
    },
    {
      "cell_type": "markdown",
      "metadata": {
        "id": "6j2qwwWijRbn"
      },
      "source": [
        "Porcentaje de error"
      ]
    },
    {
      "cell_type": "code",
      "execution_count": null,
      "metadata": {
        "id": "HvolTKi4VU3a",
        "colab": {
          "base_uri": "https://localhost:8080/"
        },
        "outputId": "e39203c6-5e5c-4ea7-c08a-4b0f297c7e25"
      },
      "outputs": [
        {
          "output_type": "stream",
          "name": "stderr",
          "text": [
            "/usr/local/lib/python3.9/dist-packages/sklearn/model_selection/_split.py:700: UserWarning: The least populated class in y has only 4 members, which is less than n_splits=10.\n",
            "  warnings.warn(\n"
          ]
        },
        {
          "output_type": "stream",
          "name": "stdout",
          "text": [
            "Acc train: 83.10967815123668 +- 0.01692749563844827\n",
            "Acc val: 54.29031763081172 % +- 3.201118545564389 %\n"
          ]
        }
      ],
      "source": [
        "results = cross_validate(model, z_train, Y_train, cv=10, return_train_score=True)\n",
        "results\n",
        "\n",
        "print(f\"Acc train:\", results['train_score'].mean()*100,\n",
        "    \"+-\", results['train_score'].std())\n",
        "print(f\"Acc val:\", results['test_score'].mean()*100,'%',\n",
        "    \"+-\", results['test_score'].std()*100,'%')"
      ]
    },
    {
      "cell_type": "markdown",
      "metadata": {
        "id": "EGY7zMgXdNOG"
      },
      "source": [
        "Metricas de rendimiento en clasificación"
      ]
    },
    {
      "cell_type": "code",
      "execution_count": null,
      "metadata": {
        "id": "b7ivvWvvdNOG"
      },
      "outputs": [],
      "source": [
        "predicte_quality = model.predict(z_train)"
      ]
    },
    {
      "cell_type": "code",
      "execution_count": null,
      "metadata": {
        "id": "g9v0TlsKs-Zm",
        "colab": {
          "base_uri": "https://localhost:8080/"
        },
        "outputId": "a496c94d-d14c-449a-9c91-eff2e966959c"
      },
      "outputs": [
        {
          "output_type": "stream",
          "name": "stdout",
          "text": [
            "              precision    recall  f1-score   support\n",
            "\n",
            "           3       0.85      0.79      0.81        14\n",
            "           4       0.99      0.73      0.84       114\n",
            "           5       0.85      0.82      0.84      1020\n",
            "           6       0.77      0.92      0.83      1538\n",
            "           7       0.93      0.66      0.77       616\n",
            "           8       0.96      0.61      0.74       122\n",
            "           9       1.00      0.75      0.86         4\n",
            "\n",
            "    accuracy                           0.82      3428\n",
            "   macro avg       0.91      0.75      0.81      3428\n",
            "weighted avg       0.84      0.82      0.82      3428\n",
            "\n"
          ]
        }
      ],
      "source": [
        "print(metrics.classification_report(Y_train, predicte_quality))"
      ]
    },
    {
      "cell_type": "code",
      "execution_count": null,
      "metadata": {
        "id": "KMxRT9hXAejG",
        "colab": {
          "base_uri": "https://localhost:8080/"
        },
        "outputId": "934362c4-b46b-4fec-c926-5b52ef2336ab"
      },
      "outputs": [
        {
          "output_type": "execute_result",
          "data": {
            "text/plain": [
              "array([[  11,    0,    0,    3,    0,    0,    0],\n",
              "       [   2,   83,   12,   16,    1,    0,    0],\n",
              "       [   0,    0,  834,  178,    7,    1,    0],\n",
              "       [   0,    1,  110, 1410,   16,    1,    0],\n",
              "       [   0,    0,   17,  194,  404,    1,    0],\n",
              "       [   0,    0,    4,   38,    6,   74,    0],\n",
              "       [   0,    0,    0,    1,    0,    0,    3]])"
            ]
          },
          "metadata": {},
          "execution_count": 54
        }
      ],
      "source": [
        "confusion_matrix(Y_train,predicte_quality)"
      ]
    },
    {
      "cell_type": "markdown",
      "metadata": {
        "id": "YaXcJPl1tUsN"
      },
      "source": [
        "# Determinar cuáles son las métricas más adecuadas para este caso y justificar"
      ]
    },
    {
      "cell_type": "markdown",
      "metadata": {
        "id": "sZswG7lpb0Gt"
      },
      "source": [
        "Las métricas de calidad del modelo en este caso de clasificación, nos indican realmente qué tan confiable es al momento de determinar en el caso del problema a que clase de calidad pertenece el vino. Por lo tanto, tanto Precision, como Recall y F1 deben acercarse a 100%."
      ]
    },
    {
      "cell_type": "markdown",
      "metadata": {
        "id": "UmwRrCozth_t"
      },
      "source": [
        "# Evaluar resultados. Volver al paso 2 y realizar una o 2 iteraciones más buscando mejorar los resultados."
      ]
    },
    {
      "cell_type": "markdown",
      "metadata": {
        "id": "RTwnDwGmfk9Q"
      },
      "source": [
        "Modelo de DecisionTreeClassifier"
      ]
    },
    {
      "cell_type": "code",
      "execution_count": null,
      "metadata": {
        "id": "r108ltvOfk9S",
        "colab": {
          "base_uri": "https://localhost:8080/"
        },
        "outputId": "4e4164f3-76eb-4709-a4b0-a18ae50b3eff"
      },
      "outputs": [
        {
          "output_type": "stream",
          "name": "stderr",
          "text": [
            "/usr/local/lib/python3.9/dist-packages/sklearn/model_selection/_split.py:700: UserWarning: The least populated class in y has only 4 members, which is less than n_splits=10.\n",
            "  warnings.warn(\n"
          ]
        },
        {
          "output_type": "execute_result",
          "data": {
            "text/plain": [
              "{'fit_time': array([0.02787113, 0.02796054, 0.02963519, 0.03121686, 0.02768707,\n",
              "        0.02654028, 0.0303154 , 0.02668285, 0.02602267, 0.02612209]),\n",
              " 'score_time': array([0.00132203, 0.00128889, 0.00136924, 0.00175214, 0.00128865,\n",
              "        0.00125504, 0.00137043, 0.00167608, 0.00143528, 0.00127912]),\n",
              " 'test_score': array([0.55685131, 0.5335277 , 0.51603499, 0.5335277 , 0.60641399,\n",
              "        0.57725948, 0.55976676, 0.51895044, 0.59649123, 0.5994152 ]),\n",
              " 'train_score': array([0.91993517, 0.93095624, 0.95364668, 0.89594814, 0.926094  ,\n",
              "        0.91993517, 0.90858995, 0.93679092, 0.89889825, 0.92709008])}"
            ]
          },
          "metadata": {},
          "execution_count": 55
        }
      ],
      "source": [
        "model = DecisionTreeClassifier(max_depth=15)\n",
        "model.fit(z_train, Y_train)\n",
        "results = cross_validate(model, z_train, Y_train, cv=10, return_train_score=True)\n",
        "results"
      ]
    },
    {
      "cell_type": "markdown",
      "metadata": {
        "id": "bvSWvuOufk9T"
      },
      "source": [
        "Porcentaje de error"
      ]
    },
    {
      "cell_type": "code",
      "execution_count": null,
      "metadata": {
        "id": "-4FwfCbEfk9V",
        "colab": {
          "base_uri": "https://localhost:8080/"
        },
        "outputId": "7f405338-15e9-4066-bd41-0afd2b950e8f"
      },
      "outputs": [
        {
          "output_type": "stream",
          "name": "stderr",
          "text": [
            "/usr/local/lib/python3.9/dist-packages/sklearn/model_selection/_split.py:700: UserWarning: The least populated class in y has only 4 members, which is less than n_splits=10.\n",
            "  warnings.warn(\n"
          ]
        },
        {
          "output_type": "stream",
          "name": "stdout",
          "text": [
            "Acc train: 92.25340036196302 +- 0.016734790099146395\n",
            "Acc val: 55.485311919253924 % +- 2.9326650507269076 %\n"
          ]
        }
      ],
      "source": [
        "results = cross_validate(model, z_train, Y_train, cv=10, return_train_score=True)\n",
        "results\n",
        "\n",
        "print(f\"Acc train:\", results['train_score'].mean()*100,\n",
        "    \"+-\", results['train_score'].std())\n",
        "print(f\"Acc val:\", results['test_score'].mean()*100,'%',\n",
        "    \"+-\", results['test_score'].std()*100,'%')"
      ]
    },
    {
      "cell_type": "markdown",
      "metadata": {
        "id": "ahzj2N2Tfk9V"
      },
      "source": [
        "Metricas de rendimiento en clasificación"
      ]
    },
    {
      "cell_type": "code",
      "execution_count": null,
      "metadata": {
        "id": "WWXapKQqfk9V"
      },
      "outputs": [],
      "source": [
        "predicte_quality = model.predict(z_train)"
      ]
    },
    {
      "cell_type": "code",
      "execution_count": null,
      "metadata": {
        "id": "_fuR-Y_Cfk9W",
        "colab": {
          "base_uri": "https://localhost:8080/"
        },
        "outputId": "5c62f470-8b9d-4f99-bebd-3edac691ef71"
      },
      "outputs": [
        {
          "output_type": "stream",
          "name": "stdout",
          "text": [
            "              precision    recall  f1-score   support\n",
            "\n",
            "           3       1.00      0.86      0.92        14\n",
            "           4       0.95      0.94      0.94       114\n",
            "           5       0.93      0.94      0.94      1020\n",
            "           6       0.90      0.95      0.92      1538\n",
            "           7       0.96      0.85      0.90       616\n",
            "           8       1.00      0.80      0.89       122\n",
            "           9       1.00      0.75      0.86         4\n",
            "\n",
            "    accuracy                           0.92      3428\n",
            "   macro avg       0.96      0.87      0.91      3428\n",
            "weighted avg       0.93      0.92      0.92      3428\n",
            "\n"
          ]
        }
      ],
      "source": [
        "print(metrics.classification_report(Y_train, predicte_quality))"
      ]
    },
    {
      "cell_type": "code",
      "execution_count": null,
      "metadata": {
        "id": "YaCfGWb3fk9X",
        "colab": {
          "base_uri": "https://localhost:8080/"
        },
        "outputId": "6e4c43ce-fee1-4f20-df0c-5426f30670ee"
      },
      "outputs": [
        {
          "output_type": "execute_result",
          "data": {
            "text/plain": [
              "array([[  12,    0,    0,    2,    0,    0,    0],\n",
              "       [   0,  107,    2,    5,    0,    0,    0],\n",
              "       [   0,    2,  963,   52,    3,    0,    0],\n",
              "       [   0,    3,   62, 1460,   13,    0,    0],\n",
              "       [   0,    0,    2,   89,  525,    0,    0],\n",
              "       [   0,    1,    1,   18,    4,   98,    0],\n",
              "       [   0,    0,    0,    0,    1,    0,    3]])"
            ]
          },
          "metadata": {},
          "execution_count": 59
        }
      ],
      "source": [
        "confusion_matrix(Y_train,predicte_quality)"
      ]
    },
    {
      "cell_type": "markdown",
      "metadata": {
        "id": "DbF7VLz2tm74"
      },
      "source": [
        "# Seleccionar el mejor modelo, evaluar en test y realizar un análisis final-"
      ]
    },
    {
      "cell_type": "code",
      "execution_count": null,
      "metadata": {
        "id": "iKTIO8bVgasV",
        "colab": {
          "base_uri": "https://localhost:8080/",
          "height": 485
        },
        "outputId": "b98d08fd-c579-4dd5-b364-c46b98d6f47c"
      },
      "outputs": [
        {
          "output_type": "execute_result",
          "data": {
            "text/plain": [
              "      fixed acidity  volatile acidity  citric acid  residual sugar  chlorides  \\\n",
              "1091            7.2              0.21         0.35            14.5      0.048   \n",
              "4713            6.4              0.28         0.28             3.0      0.040   \n",
              "3046            6.9              0.24         0.37             6.1      0.027   \n",
              "2804            6.4              0.22         0.32             7.2      0.028   \n",
              "4662            7.3              0.17         0.36             8.2      0.028   \n",
              "...             ...               ...          ...             ...        ...   \n",
              "65              6.2              0.35         0.03             1.2      0.064   \n",
              "3144            6.2              0.23         0.36            17.2      0.039   \n",
              "1829            7.7              0.44         0.24            11.2      0.031   \n",
              "4526            5.8              0.27         0.22            12.7      0.058   \n",
              "302             6.1              0.41         0.00             1.6      0.063   \n",
              "\n",
              "      free sulfur dioxide  total sulfur dioxide  density    pH  sulphates  \\\n",
              "1091                 35.0                 178.0  0.99820  3.05       0.47   \n",
              "4713                 19.0                  98.0  0.99216  3.25       0.47   \n",
              "3046                 38.0                 112.0  0.99086  3.19       0.34   \n",
              "2804                 15.0                  83.0  0.99300  3.13       0.55   \n",
              "4662                 44.0                 111.0  0.99272  3.14       0.41   \n",
              "...                   ...                   ...      ...   ...        ...   \n",
              "65                   29.0                 120.0  0.99340  3.22       0.54   \n",
              "3144                 37.0                 130.0  0.99946  3.23       0.43   \n",
              "1829                 41.0                 167.0  0.99480  3.12       0.43   \n",
              "4526                 42.0                 206.0  0.99460  3.32       0.38   \n",
              "302                  36.0                  87.0  0.99140  3.27       0.67   \n",
              "\n",
              "      alcohol  \n",
              "1091      8.9  \n",
              "4713     11.1  \n",
              "3046     12.4  \n",
              "2804     10.9  \n",
              "4662     12.4  \n",
              "...       ...  \n",
              "65        9.1  \n",
              "3144      8.8  \n",
              "1829     11.3  \n",
              "4526     12.3  \n",
              "302      10.8  \n",
              "\n",
              "[3428 rows x 11 columns]"
            ],
            "text/html": [
              "\n",
              "  <div id=\"df-94b25290-47b8-4a39-8942-9343e00b2689\">\n",
              "    <div class=\"colab-df-container\">\n",
              "      <div>\n",
              "<style scoped>\n",
              "    .dataframe tbody tr th:only-of-type {\n",
              "        vertical-align: middle;\n",
              "    }\n",
              "\n",
              "    .dataframe tbody tr th {\n",
              "        vertical-align: top;\n",
              "    }\n",
              "\n",
              "    .dataframe thead th {\n",
              "        text-align: right;\n",
              "    }\n",
              "</style>\n",
              "<table border=\"1\" class=\"dataframe\">\n",
              "  <thead>\n",
              "    <tr style=\"text-align: right;\">\n",
              "      <th></th>\n",
              "      <th>fixed acidity</th>\n",
              "      <th>volatile acidity</th>\n",
              "      <th>citric acid</th>\n",
              "      <th>residual sugar</th>\n",
              "      <th>chlorides</th>\n",
              "      <th>free sulfur dioxide</th>\n",
              "      <th>total sulfur dioxide</th>\n",
              "      <th>density</th>\n",
              "      <th>pH</th>\n",
              "      <th>sulphates</th>\n",
              "      <th>alcohol</th>\n",
              "    </tr>\n",
              "  </thead>\n",
              "  <tbody>\n",
              "    <tr>\n",
              "      <th>1091</th>\n",
              "      <td>7.2</td>\n",
              "      <td>0.21</td>\n",
              "      <td>0.35</td>\n",
              "      <td>14.5</td>\n",
              "      <td>0.048</td>\n",
              "      <td>35.0</td>\n",
              "      <td>178.0</td>\n",
              "      <td>0.99820</td>\n",
              "      <td>3.05</td>\n",
              "      <td>0.47</td>\n",
              "      <td>8.9</td>\n",
              "    </tr>\n",
              "    <tr>\n",
              "      <th>4713</th>\n",
              "      <td>6.4</td>\n",
              "      <td>0.28</td>\n",
              "      <td>0.28</td>\n",
              "      <td>3.0</td>\n",
              "      <td>0.040</td>\n",
              "      <td>19.0</td>\n",
              "      <td>98.0</td>\n",
              "      <td>0.99216</td>\n",
              "      <td>3.25</td>\n",
              "      <td>0.47</td>\n",
              "      <td>11.1</td>\n",
              "    </tr>\n",
              "    <tr>\n",
              "      <th>3046</th>\n",
              "      <td>6.9</td>\n",
              "      <td>0.24</td>\n",
              "      <td>0.37</td>\n",
              "      <td>6.1</td>\n",
              "      <td>0.027</td>\n",
              "      <td>38.0</td>\n",
              "      <td>112.0</td>\n",
              "      <td>0.99086</td>\n",
              "      <td>3.19</td>\n",
              "      <td>0.34</td>\n",
              "      <td>12.4</td>\n",
              "    </tr>\n",
              "    <tr>\n",
              "      <th>2804</th>\n",
              "      <td>6.4</td>\n",
              "      <td>0.22</td>\n",
              "      <td>0.32</td>\n",
              "      <td>7.2</td>\n",
              "      <td>0.028</td>\n",
              "      <td>15.0</td>\n",
              "      <td>83.0</td>\n",
              "      <td>0.99300</td>\n",
              "      <td>3.13</td>\n",
              "      <td>0.55</td>\n",
              "      <td>10.9</td>\n",
              "    </tr>\n",
              "    <tr>\n",
              "      <th>4662</th>\n",
              "      <td>7.3</td>\n",
              "      <td>0.17</td>\n",
              "      <td>0.36</td>\n",
              "      <td>8.2</td>\n",
              "      <td>0.028</td>\n",
              "      <td>44.0</td>\n",
              "      <td>111.0</td>\n",
              "      <td>0.99272</td>\n",
              "      <td>3.14</td>\n",
              "      <td>0.41</td>\n",
              "      <td>12.4</td>\n",
              "    </tr>\n",
              "    <tr>\n",
              "      <th>...</th>\n",
              "      <td>...</td>\n",
              "      <td>...</td>\n",
              "      <td>...</td>\n",
              "      <td>...</td>\n",
              "      <td>...</td>\n",
              "      <td>...</td>\n",
              "      <td>...</td>\n",
              "      <td>...</td>\n",
              "      <td>...</td>\n",
              "      <td>...</td>\n",
              "      <td>...</td>\n",
              "    </tr>\n",
              "    <tr>\n",
              "      <th>65</th>\n",
              "      <td>6.2</td>\n",
              "      <td>0.35</td>\n",
              "      <td>0.03</td>\n",
              "      <td>1.2</td>\n",
              "      <td>0.064</td>\n",
              "      <td>29.0</td>\n",
              "      <td>120.0</td>\n",
              "      <td>0.99340</td>\n",
              "      <td>3.22</td>\n",
              "      <td>0.54</td>\n",
              "      <td>9.1</td>\n",
              "    </tr>\n",
              "    <tr>\n",
              "      <th>3144</th>\n",
              "      <td>6.2</td>\n",
              "      <td>0.23</td>\n",
              "      <td>0.36</td>\n",
              "      <td>17.2</td>\n",
              "      <td>0.039</td>\n",
              "      <td>37.0</td>\n",
              "      <td>130.0</td>\n",
              "      <td>0.99946</td>\n",
              "      <td>3.23</td>\n",
              "      <td>0.43</td>\n",
              "      <td>8.8</td>\n",
              "    </tr>\n",
              "    <tr>\n",
              "      <th>1829</th>\n",
              "      <td>7.7</td>\n",
              "      <td>0.44</td>\n",
              "      <td>0.24</td>\n",
              "      <td>11.2</td>\n",
              "      <td>0.031</td>\n",
              "      <td>41.0</td>\n",
              "      <td>167.0</td>\n",
              "      <td>0.99480</td>\n",
              "      <td>3.12</td>\n",
              "      <td>0.43</td>\n",
              "      <td>11.3</td>\n",
              "    </tr>\n",
              "    <tr>\n",
              "      <th>4526</th>\n",
              "      <td>5.8</td>\n",
              "      <td>0.27</td>\n",
              "      <td>0.22</td>\n",
              "      <td>12.7</td>\n",
              "      <td>0.058</td>\n",
              "      <td>42.0</td>\n",
              "      <td>206.0</td>\n",
              "      <td>0.99460</td>\n",
              "      <td>3.32</td>\n",
              "      <td>0.38</td>\n",
              "      <td>12.3</td>\n",
              "    </tr>\n",
              "    <tr>\n",
              "      <th>302</th>\n",
              "      <td>6.1</td>\n",
              "      <td>0.41</td>\n",
              "      <td>0.00</td>\n",
              "      <td>1.6</td>\n",
              "      <td>0.063</td>\n",
              "      <td>36.0</td>\n",
              "      <td>87.0</td>\n",
              "      <td>0.99140</td>\n",
              "      <td>3.27</td>\n",
              "      <td>0.67</td>\n",
              "      <td>10.8</td>\n",
              "    </tr>\n",
              "  </tbody>\n",
              "</table>\n",
              "<p>3428 rows × 11 columns</p>\n",
              "</div>\n",
              "      <button class=\"colab-df-convert\" onclick=\"convertToInteractive('df-94b25290-47b8-4a39-8942-9343e00b2689')\"\n",
              "              title=\"Convert this dataframe to an interactive table.\"\n",
              "              style=\"display:none;\">\n",
              "        \n",
              "  <svg xmlns=\"http://www.w3.org/2000/svg\" height=\"24px\"viewBox=\"0 0 24 24\"\n",
              "       width=\"24px\">\n",
              "    <path d=\"M0 0h24v24H0V0z\" fill=\"none\"/>\n",
              "    <path d=\"M18.56 5.44l.94 2.06.94-2.06 2.06-.94-2.06-.94-.94-2.06-.94 2.06-2.06.94zm-11 1L8.5 8.5l.94-2.06 2.06-.94-2.06-.94L8.5 2.5l-.94 2.06-2.06.94zm10 10l.94 2.06.94-2.06 2.06-.94-2.06-.94-.94-2.06-.94 2.06-2.06.94z\"/><path d=\"M17.41 7.96l-1.37-1.37c-.4-.4-.92-.59-1.43-.59-.52 0-1.04.2-1.43.59L10.3 9.45l-7.72 7.72c-.78.78-.78 2.05 0 2.83L4 21.41c.39.39.9.59 1.41.59.51 0 1.02-.2 1.41-.59l7.78-7.78 2.81-2.81c.8-.78.8-2.07 0-2.86zM5.41 20L4 18.59l7.72-7.72 1.47 1.35L5.41 20z\"/>\n",
              "  </svg>\n",
              "      </button>\n",
              "      \n",
              "  <style>\n",
              "    .colab-df-container {\n",
              "      display:flex;\n",
              "      flex-wrap:wrap;\n",
              "      gap: 12px;\n",
              "    }\n",
              "\n",
              "    .colab-df-convert {\n",
              "      background-color: #E8F0FE;\n",
              "      border: none;\n",
              "      border-radius: 50%;\n",
              "      cursor: pointer;\n",
              "      display: none;\n",
              "      fill: #1967D2;\n",
              "      height: 32px;\n",
              "      padding: 0 0 0 0;\n",
              "      width: 32px;\n",
              "    }\n",
              "\n",
              "    .colab-df-convert:hover {\n",
              "      background-color: #E2EBFA;\n",
              "      box-shadow: 0px 1px 2px rgba(60, 64, 67, 0.3), 0px 1px 3px 1px rgba(60, 64, 67, 0.15);\n",
              "      fill: #174EA6;\n",
              "    }\n",
              "\n",
              "    [theme=dark] .colab-df-convert {\n",
              "      background-color: #3B4455;\n",
              "      fill: #D2E3FC;\n",
              "    }\n",
              "\n",
              "    [theme=dark] .colab-df-convert:hover {\n",
              "      background-color: #434B5C;\n",
              "      box-shadow: 0px 1px 3px 1px rgba(0, 0, 0, 0.15);\n",
              "      filter: drop-shadow(0px 1px 2px rgba(0, 0, 0, 0.3));\n",
              "      fill: #FFFFFF;\n",
              "    }\n",
              "  </style>\n",
              "\n",
              "      <script>\n",
              "        const buttonEl =\n",
              "          document.querySelector('#df-94b25290-47b8-4a39-8942-9343e00b2689 button.colab-df-convert');\n",
              "        buttonEl.style.display =\n",
              "          google.colab.kernel.accessAllowed ? 'block' : 'none';\n",
              "\n",
              "        async function convertToInteractive(key) {\n",
              "          const element = document.querySelector('#df-94b25290-47b8-4a39-8942-9343e00b2689');\n",
              "          const dataTable =\n",
              "            await google.colab.kernel.invokeFunction('convertToInteractive',\n",
              "                                                     [key], {});\n",
              "          if (!dataTable) return;\n",
              "\n",
              "          const docLinkHtml = 'Like what you see? Visit the ' +\n",
              "            '<a target=\"_blank\" href=https://colab.research.google.com/notebooks/data_table.ipynb>data table notebook</a>'\n",
              "            + ' to learn more about interactive tables.';\n",
              "          element.innerHTML = '';\n",
              "          dataTable['output_type'] = 'display_data';\n",
              "          await google.colab.output.renderOutput(dataTable, element);\n",
              "          const docLink = document.createElement('div');\n",
              "          docLink.innerHTML = docLinkHtml;\n",
              "          element.appendChild(docLink);\n",
              "        }\n",
              "      </script>\n",
              "    </div>\n",
              "  </div>\n",
              "  "
            ]
          },
          "metadata": {},
          "execution_count": 60
        }
      ],
      "source": [
        "X_train"
      ]
    },
    {
      "cell_type": "code",
      "source": [
        "df"
      ],
      "metadata": {
        "colab": {
          "base_uri": "https://localhost:8080/",
          "height": 485
        },
        "id": "rnKlQVIv6eUS",
        "outputId": "473c0f69-8c86-4e7e-faa9-d02a8bdfebde"
      },
      "execution_count": null,
      "outputs": [
        {
          "output_type": "execute_result",
          "data": {
            "text/plain": [
              "      fixed acidity  volatile acidity  citric acid  residual sugar  chlorides  \\\n",
              "0               7.0              0.27         0.36            20.7      0.045   \n",
              "1               6.3              0.30         0.34             1.6      0.049   \n",
              "2               8.1              0.28         0.40             6.9      0.050   \n",
              "3               7.2              0.23         0.32             8.5      0.058   \n",
              "4               7.2              0.23         0.32             8.5      0.058   \n",
              "...             ...               ...          ...             ...        ...   \n",
              "4893            6.2              0.21         0.29             1.6      0.039   \n",
              "4894            6.6              0.32         0.36             8.0      0.047   \n",
              "4895            6.5              0.24         0.19             1.2      0.041   \n",
              "4896            5.5              0.29         0.30             1.1      0.022   \n",
              "4897            6.0              0.21         0.38             0.8      0.020   \n",
              "\n",
              "      free sulfur dioxide  total sulfur dioxide  density    pH  sulphates  \\\n",
              "0                    45.0                 170.0  1.00100  3.00       0.45   \n",
              "1                    14.0                 132.0  0.99400  3.30       0.49   \n",
              "2                    30.0                  97.0  0.99510  3.26       0.44   \n",
              "3                    47.0                 186.0  0.99560  3.19       0.40   \n",
              "4                    47.0                 186.0  0.99560  3.19       0.40   \n",
              "...                   ...                   ...      ...   ...        ...   \n",
              "4893                 24.0                  92.0  0.99114  3.27       0.50   \n",
              "4894                 57.0                 168.0  0.99490  3.15       0.46   \n",
              "4895                 30.0                 111.0  0.99254  2.99       0.46   \n",
              "4896                 20.0                 110.0  0.98869  3.34       0.38   \n",
              "4897                 22.0                  98.0  0.98941  3.26       0.32   \n",
              "\n",
              "      alcohol  quality  \n",
              "0         8.8        6  \n",
              "1         9.5        6  \n",
              "2        10.1        6  \n",
              "3         9.9        6  \n",
              "4         9.9        6  \n",
              "...       ...      ...  \n",
              "4893     11.2        6  \n",
              "4894      9.6        5  \n",
              "4895      9.4        6  \n",
              "4896     12.8        7  \n",
              "4897     11.8        6  \n",
              "\n",
              "[4898 rows x 12 columns]"
            ],
            "text/html": [
              "\n",
              "  <div id=\"df-5226979e-6683-40fc-af20-6e8b737a3a2b\">\n",
              "    <div class=\"colab-df-container\">\n",
              "      <div>\n",
              "<style scoped>\n",
              "    .dataframe tbody tr th:only-of-type {\n",
              "        vertical-align: middle;\n",
              "    }\n",
              "\n",
              "    .dataframe tbody tr th {\n",
              "        vertical-align: top;\n",
              "    }\n",
              "\n",
              "    .dataframe thead th {\n",
              "        text-align: right;\n",
              "    }\n",
              "</style>\n",
              "<table border=\"1\" class=\"dataframe\">\n",
              "  <thead>\n",
              "    <tr style=\"text-align: right;\">\n",
              "      <th></th>\n",
              "      <th>fixed acidity</th>\n",
              "      <th>volatile acidity</th>\n",
              "      <th>citric acid</th>\n",
              "      <th>residual sugar</th>\n",
              "      <th>chlorides</th>\n",
              "      <th>free sulfur dioxide</th>\n",
              "      <th>total sulfur dioxide</th>\n",
              "      <th>density</th>\n",
              "      <th>pH</th>\n",
              "      <th>sulphates</th>\n",
              "      <th>alcohol</th>\n",
              "      <th>quality</th>\n",
              "    </tr>\n",
              "  </thead>\n",
              "  <tbody>\n",
              "    <tr>\n",
              "      <th>0</th>\n",
              "      <td>7.0</td>\n",
              "      <td>0.27</td>\n",
              "      <td>0.36</td>\n",
              "      <td>20.7</td>\n",
              "      <td>0.045</td>\n",
              "      <td>45.0</td>\n",
              "      <td>170.0</td>\n",
              "      <td>1.00100</td>\n",
              "      <td>3.00</td>\n",
              "      <td>0.45</td>\n",
              "      <td>8.8</td>\n",
              "      <td>6</td>\n",
              "    </tr>\n",
              "    <tr>\n",
              "      <th>1</th>\n",
              "      <td>6.3</td>\n",
              "      <td>0.30</td>\n",
              "      <td>0.34</td>\n",
              "      <td>1.6</td>\n",
              "      <td>0.049</td>\n",
              "      <td>14.0</td>\n",
              "      <td>132.0</td>\n",
              "      <td>0.99400</td>\n",
              "      <td>3.30</td>\n",
              "      <td>0.49</td>\n",
              "      <td>9.5</td>\n",
              "      <td>6</td>\n",
              "    </tr>\n",
              "    <tr>\n",
              "      <th>2</th>\n",
              "      <td>8.1</td>\n",
              "      <td>0.28</td>\n",
              "      <td>0.40</td>\n",
              "      <td>6.9</td>\n",
              "      <td>0.050</td>\n",
              "      <td>30.0</td>\n",
              "      <td>97.0</td>\n",
              "      <td>0.99510</td>\n",
              "      <td>3.26</td>\n",
              "      <td>0.44</td>\n",
              "      <td>10.1</td>\n",
              "      <td>6</td>\n",
              "    </tr>\n",
              "    <tr>\n",
              "      <th>3</th>\n",
              "      <td>7.2</td>\n",
              "      <td>0.23</td>\n",
              "      <td>0.32</td>\n",
              "      <td>8.5</td>\n",
              "      <td>0.058</td>\n",
              "      <td>47.0</td>\n",
              "      <td>186.0</td>\n",
              "      <td>0.99560</td>\n",
              "      <td>3.19</td>\n",
              "      <td>0.40</td>\n",
              "      <td>9.9</td>\n",
              "      <td>6</td>\n",
              "    </tr>\n",
              "    <tr>\n",
              "      <th>4</th>\n",
              "      <td>7.2</td>\n",
              "      <td>0.23</td>\n",
              "      <td>0.32</td>\n",
              "      <td>8.5</td>\n",
              "      <td>0.058</td>\n",
              "      <td>47.0</td>\n",
              "      <td>186.0</td>\n",
              "      <td>0.99560</td>\n",
              "      <td>3.19</td>\n",
              "      <td>0.40</td>\n",
              "      <td>9.9</td>\n",
              "      <td>6</td>\n",
              "    </tr>\n",
              "    <tr>\n",
              "      <th>...</th>\n",
              "      <td>...</td>\n",
              "      <td>...</td>\n",
              "      <td>...</td>\n",
              "      <td>...</td>\n",
              "      <td>...</td>\n",
              "      <td>...</td>\n",
              "      <td>...</td>\n",
              "      <td>...</td>\n",
              "      <td>...</td>\n",
              "      <td>...</td>\n",
              "      <td>...</td>\n",
              "      <td>...</td>\n",
              "    </tr>\n",
              "    <tr>\n",
              "      <th>4893</th>\n",
              "      <td>6.2</td>\n",
              "      <td>0.21</td>\n",
              "      <td>0.29</td>\n",
              "      <td>1.6</td>\n",
              "      <td>0.039</td>\n",
              "      <td>24.0</td>\n",
              "      <td>92.0</td>\n",
              "      <td>0.99114</td>\n",
              "      <td>3.27</td>\n",
              "      <td>0.50</td>\n",
              "      <td>11.2</td>\n",
              "      <td>6</td>\n",
              "    </tr>\n",
              "    <tr>\n",
              "      <th>4894</th>\n",
              "      <td>6.6</td>\n",
              "      <td>0.32</td>\n",
              "      <td>0.36</td>\n",
              "      <td>8.0</td>\n",
              "      <td>0.047</td>\n",
              "      <td>57.0</td>\n",
              "      <td>168.0</td>\n",
              "      <td>0.99490</td>\n",
              "      <td>3.15</td>\n",
              "      <td>0.46</td>\n",
              "      <td>9.6</td>\n",
              "      <td>5</td>\n",
              "    </tr>\n",
              "    <tr>\n",
              "      <th>4895</th>\n",
              "      <td>6.5</td>\n",
              "      <td>0.24</td>\n",
              "      <td>0.19</td>\n",
              "      <td>1.2</td>\n",
              "      <td>0.041</td>\n",
              "      <td>30.0</td>\n",
              "      <td>111.0</td>\n",
              "      <td>0.99254</td>\n",
              "      <td>2.99</td>\n",
              "      <td>0.46</td>\n",
              "      <td>9.4</td>\n",
              "      <td>6</td>\n",
              "    </tr>\n",
              "    <tr>\n",
              "      <th>4896</th>\n",
              "      <td>5.5</td>\n",
              "      <td>0.29</td>\n",
              "      <td>0.30</td>\n",
              "      <td>1.1</td>\n",
              "      <td>0.022</td>\n",
              "      <td>20.0</td>\n",
              "      <td>110.0</td>\n",
              "      <td>0.98869</td>\n",
              "      <td>3.34</td>\n",
              "      <td>0.38</td>\n",
              "      <td>12.8</td>\n",
              "      <td>7</td>\n",
              "    </tr>\n",
              "    <tr>\n",
              "      <th>4897</th>\n",
              "      <td>6.0</td>\n",
              "      <td>0.21</td>\n",
              "      <td>0.38</td>\n",
              "      <td>0.8</td>\n",
              "      <td>0.020</td>\n",
              "      <td>22.0</td>\n",
              "      <td>98.0</td>\n",
              "      <td>0.98941</td>\n",
              "      <td>3.26</td>\n",
              "      <td>0.32</td>\n",
              "      <td>11.8</td>\n",
              "      <td>6</td>\n",
              "    </tr>\n",
              "  </tbody>\n",
              "</table>\n",
              "<p>4898 rows × 12 columns</p>\n",
              "</div>\n",
              "      <button class=\"colab-df-convert\" onclick=\"convertToInteractive('df-5226979e-6683-40fc-af20-6e8b737a3a2b')\"\n",
              "              title=\"Convert this dataframe to an interactive table.\"\n",
              "              style=\"display:none;\">\n",
              "        \n",
              "  <svg xmlns=\"http://www.w3.org/2000/svg\" height=\"24px\"viewBox=\"0 0 24 24\"\n",
              "       width=\"24px\">\n",
              "    <path d=\"M0 0h24v24H0V0z\" fill=\"none\"/>\n",
              "    <path d=\"M18.56 5.44l.94 2.06.94-2.06 2.06-.94-2.06-.94-.94-2.06-.94 2.06-2.06.94zm-11 1L8.5 8.5l.94-2.06 2.06-.94-2.06-.94L8.5 2.5l-.94 2.06-2.06.94zm10 10l.94 2.06.94-2.06 2.06-.94-2.06-.94-.94-2.06-.94 2.06-2.06.94z\"/><path d=\"M17.41 7.96l-1.37-1.37c-.4-.4-.92-.59-1.43-.59-.52 0-1.04.2-1.43.59L10.3 9.45l-7.72 7.72c-.78.78-.78 2.05 0 2.83L4 21.41c.39.39.9.59 1.41.59.51 0 1.02-.2 1.41-.59l7.78-7.78 2.81-2.81c.8-.78.8-2.07 0-2.86zM5.41 20L4 18.59l7.72-7.72 1.47 1.35L5.41 20z\"/>\n",
              "  </svg>\n",
              "      </button>\n",
              "      \n",
              "  <style>\n",
              "    .colab-df-container {\n",
              "      display:flex;\n",
              "      flex-wrap:wrap;\n",
              "      gap: 12px;\n",
              "    }\n",
              "\n",
              "    .colab-df-convert {\n",
              "      background-color: #E8F0FE;\n",
              "      border: none;\n",
              "      border-radius: 50%;\n",
              "      cursor: pointer;\n",
              "      display: none;\n",
              "      fill: #1967D2;\n",
              "      height: 32px;\n",
              "      padding: 0 0 0 0;\n",
              "      width: 32px;\n",
              "    }\n",
              "\n",
              "    .colab-df-convert:hover {\n",
              "      background-color: #E2EBFA;\n",
              "      box-shadow: 0px 1px 2px rgba(60, 64, 67, 0.3), 0px 1px 3px 1px rgba(60, 64, 67, 0.15);\n",
              "      fill: #174EA6;\n",
              "    }\n",
              "\n",
              "    [theme=dark] .colab-df-convert {\n",
              "      background-color: #3B4455;\n",
              "      fill: #D2E3FC;\n",
              "    }\n",
              "\n",
              "    [theme=dark] .colab-df-convert:hover {\n",
              "      background-color: #434B5C;\n",
              "      box-shadow: 0px 1px 3px 1px rgba(0, 0, 0, 0.15);\n",
              "      filter: drop-shadow(0px 1px 2px rgba(0, 0, 0, 0.3));\n",
              "      fill: #FFFFFF;\n",
              "    }\n",
              "  </style>\n",
              "\n",
              "      <script>\n",
              "        const buttonEl =\n",
              "          document.querySelector('#df-5226979e-6683-40fc-af20-6e8b737a3a2b button.colab-df-convert');\n",
              "        buttonEl.style.display =\n",
              "          google.colab.kernel.accessAllowed ? 'block' : 'none';\n",
              "\n",
              "        async function convertToInteractive(key) {\n",
              "          const element = document.querySelector('#df-5226979e-6683-40fc-af20-6e8b737a3a2b');\n",
              "          const dataTable =\n",
              "            await google.colab.kernel.invokeFunction('convertToInteractive',\n",
              "                                                     [key], {});\n",
              "          if (!dataTable) return;\n",
              "\n",
              "          const docLinkHtml = 'Like what you see? Visit the ' +\n",
              "            '<a target=\"_blank\" href=https://colab.research.google.com/notebooks/data_table.ipynb>data table notebook</a>'\n",
              "            + ' to learn more about interactive tables.';\n",
              "          element.innerHTML = '';\n",
              "          dataTable['output_type'] = 'display_data';\n",
              "          await google.colab.output.renderOutput(dataTable, element);\n",
              "          const docLink = document.createElement('div');\n",
              "          docLink.innerHTML = docLinkHtml;\n",
              "          element.appendChild(docLink);\n",
              "        }\n",
              "      </script>\n",
              "    </div>\n",
              "  </div>\n",
              "  "
            ]
          },
          "metadata": {},
          "execution_count": 61
        }
      ]
    },
    {
      "cell_type": "code",
      "execution_count": null,
      "metadata": {
        "id": "RQ7HhFk0f0Sx",
        "colab": {
          "base_uri": "https://localhost:8080/"
        },
        "outputId": "1a431838-06af-4888-a29d-5415fcf67035"
      },
      "outputs": [
        {
          "output_type": "execute_result",
          "data": {
            "text/plain": [
              "array([[  0.,   0.,   0., 100.,   0.,   0.,   0.]])"
            ]
          },
          "metadata": {},
          "execution_count": 62
        }
      ],
      "source": [
        "model.predict_proba([[7.2,0.21,0.34,11.9,0.043,37.0,213.0,0.9962,3.09,0.5,9.6]])*100"
      ]
    },
    {
      "cell_type": "code",
      "execution_count": null,
      "metadata": {
        "id": "BhyLpv4_jeqc",
        "colab": {
          "base_uri": "https://localhost:8080/"
        },
        "outputId": "390a70e7-04e4-4b70-e79f-1c3eb77dc993"
      },
      "outputs": [
        {
          "output_type": "execute_result",
          "data": {
            "text/plain": [
              "array([[  0.,   0.,   0., 100.,   0.,   0.,   0.]])"
            ]
          },
          "metadata": {},
          "execution_count": 63
        }
      ],
      "source": [
        "model.predict_proba([[5.5,0.29,0.30,1.1,0.022,20.0,110.0,0.98869,3.34,0.38,12.8]])*100"
      ]
    },
    {
      "cell_type": "markdown",
      "source": [
        "En conclusión, se determina que el mejor modelo de Machine Learning para la predicción de la calidad del vino blanco, es el DecisionTreeClassifier debido a sus altas métricas de desempeño clasificatorias como Presicion, Recall y F1."
      ],
      "metadata": {
        "id": "d96UnNLS8ghu"
      }
    },
    {
      "cell_type": "code",
      "execution_count": null,
      "metadata": {
        "id": "dHhm4caxaGiG",
        "colab": {
          "base_uri": "https://localhost:8080/"
        },
        "outputId": "4c6e7fe7-84fd-4202-f056-5bc48fe2d5ab"
      },
      "outputs": [
        {
          "output_type": "stream",
          "name": "stdout",
          "text": [
            "accuracy test 92.41540256709452 %\n"
          ]
        }
      ],
      "source": [
        "print(\"accuracy test\", accuracy_score(Y_train,predicte_quality)*100, \"%\")"
      ]
    },
    {
      "cell_type": "markdown",
      "metadata": {
        "id": "LHWrRtCBa7yH"
      },
      "source": [
        "Exportar pipeline y modelo a producción"
      ]
    },
    {
      "cell_type": "code",
      "execution_count": null,
      "metadata": {
        "id": "-mgrurKea_pZ",
        "colab": {
          "base_uri": "https://localhost:8080/"
        },
        "outputId": "a10c74d3-c348-4a21-ceb9-0d6944c859d1"
      },
      "outputs": [
        {
          "output_type": "execute_result",
          "data": {
            "text/plain": [
              "['modelo.joblib']"
            ]
          },
          "metadata": {},
          "execution_count": 65
        }
      ],
      "source": [
        "joblib.dump(model, \"modelo.joblib\")"
      ]
    }
  ],
  "metadata": {
    "colab": {
      "toc_visible": true,
      "provenance": []
    },
    "kernelspec": {
      "display_name": "Python 3",
      "name": "python3"
    },
    "language_info": {
      "name": "python"
    }
  },
  "nbformat": 4,
  "nbformat_minor": 0
}